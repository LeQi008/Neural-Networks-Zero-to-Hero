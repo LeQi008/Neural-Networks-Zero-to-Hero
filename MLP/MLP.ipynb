{
 "cells": [
  {
   "cell_type": "code",
   "execution_count": 1,
   "id": "4cd18a22-4a59-457c-9f88-130391f4ec51",
   "metadata": {},
   "outputs": [],
   "source": [
    "import torch\n",
    "import torch.nn.functional as F\n",
    "import matplotlib.pyplot as plt # for making figures\n",
    "%matplotlib inline"
   ]
  },
  {
   "cell_type": "code",
   "execution_count": 2,
   "id": "4a638274-1326-4bbf-94a8-65343d60a0ca",
   "metadata": {},
   "outputs": [
    {
     "data": {
      "text/plain": [
       "['frostwyrm',\n",
       " 'emberdrake',\n",
       " 'thundergriffin',\n",
       " 'shadowfenrir',\n",
       " 'luminara serpent',\n",
       " 'crystalbeast',\n",
       " 'nebula phoenix',\n",
       " 'specterwolf']"
      ]
     },
     "execution_count": 2,
     "metadata": {},
     "output_type": "execute_result"
    }
   ],
   "source": [
    "# read in all the words\n",
    "words = open('mythical.txt', 'r').read().splitlines()\n",
    "words[:8]"
   ]
  },
  {
   "cell_type": "code",
   "execution_count": 3,
   "id": "eb520003-b669-4d22-afa8-c8f45f0af52e",
   "metadata": {},
   "outputs": [
    {
     "data": {
      "text/plain": [
       "397"
      ]
     },
     "execution_count": 3,
     "metadata": {},
     "output_type": "execute_result"
    }
   ],
   "source": [
    "len(words)"
   ]
  },
  {
   "cell_type": "code",
   "execution_count": 4,
   "id": "52e8da31-dfbf-4c0d-b757-6558c79ecd5c",
   "metadata": {},
   "outputs": [
    {
     "name": "stdout",
     "output_type": "stream",
     "text": [
      "{1: ' ', 2: 'a', 3: 'b', 4: 'c', 5: 'd', 6: 'e', 7: 'f', 8: 'g', 9: 'h', 10: 'i', 11: 'k', 12: 'l', 13: 'm', 14: 'n', 15: 'o', 16: 'p', 17: 'q', 18: 'r', 19: 's', 20: 't', 21: 'u', 22: 'v', 23: 'w', 24: 'x', 25: 'y', 0: '.'}\n"
     ]
    }
   ],
   "source": [
    "# build the vocabulary of characters and mappings to/from integers\n",
    "chars = sorted(list(set(''.join(words))))\n",
    "stoi = {s:i+1 for i,s in enumerate(chars)}\n",
    "stoi['.'] = 0\n",
    "itos = {i:s for s,i in stoi.items()}\n",
    "print(itos)\n",
    "lenMap = len(stoi)"
   ]
  },
  {
   "cell_type": "code",
   "execution_count": 5,
   "id": "ee9e3971-14c7-4265-aa09-42c21d372017",
   "metadata": {},
   "outputs": [],
   "source": [
    "# build the dataset\n",
    "\n",
    "block_size = 3 # context length: how many characters do we take to predict the next one?\n",
    "X, Y = [], []\n",
    "for w in words:\n",
    "  \n",
    "  #print(w)\n",
    "  context = [0] * block_size\n",
    "  for ch in w + '.':\n",
    "    ix = stoi[ch]\n",
    "    X.append(context)\n",
    "    Y.append(ix)\n",
    "    #print(''.join(itos[i] for i in context), '--->', itos[ix])\n",
    "    context = context[1:] + [ix] # crop and append # Just like a rolling window\n",
    "\n",
    "  \n",
    "X = torch.tensor(X)\n",
    "Y = torch.tensor(Y)"
   ]
  },
  {
   "cell_type": "code",
   "execution_count": 6,
   "id": "b9a9cf94-78c0-4a4c-804c-2e6858ddbfdb",
   "metadata": {},
   "outputs": [
    {
     "data": {
      "text/plain": [
       "(torch.Size([5495, 3]), torch.int64, torch.Size([5495]), torch.int64)"
      ]
     },
     "execution_count": 6,
     "metadata": {},
     "output_type": "execute_result"
    }
   ],
   "source": [
    "\n",
    "X.shape, X.dtype, Y.shape, Y.dtype"
   ]
  },
  {
   "cell_type": "code",
   "execution_count": 7,
   "id": "52c5917f-0201-439b-bfb6-337e23401722",
   "metadata": {},
   "outputs": [
    {
     "data": {
      "text/plain": [
       "tensor([[ 0,  0,  0],\n",
       "        [ 0,  0,  7],\n",
       "        [ 0,  7, 18],\n",
       "        ...,\n",
       "        [ 6, 14, 18],\n",
       "        [14, 18, 10],\n",
       "        [18, 10, 18]])"
      ]
     },
     "execution_count": 7,
     "metadata": {},
     "output_type": "execute_result"
    }
   ],
   "source": [
    "X"
   ]
  },
  {
   "cell_type": "code",
   "execution_count": 8,
   "id": "46c4ede0-3690-46d8-8818-71bb3d52d140",
   "metadata": {},
   "outputs": [
    {
     "data": {
      "text/plain": [
       "tensor([ 7, 18, 15,  ..., 10, 18,  0])"
      ]
     },
     "execution_count": 8,
     "metadata": {},
     "output_type": "execute_result"
    }
   ],
   "source": [
    "Y"
   ]
  },
  {
   "cell_type": "code",
   "execution_count": 9,
   "id": "c8f60640-62ac-4902-b23a-66f4e070eebc",
   "metadata": {},
   "outputs": [],
   "source": [
    "# Creating look up table C of dimension 2.\n",
    "C = torch.randn((lenMap,2))"
   ]
  },
  {
   "cell_type": "markdown",
   "id": "3bd7619d-f4eb-496e-bca1-a2fc9d62c93c",
   "metadata": {},
   "source": [
    "#### How table look up works"
   ]
  },
  {
   "cell_type": "code",
   "execution_count": 10,
   "id": "6621f01d-77a8-43be-a3b1-c2e0ff975a43",
   "metadata": {},
   "outputs": [
    {
     "data": {
      "text/plain": [
       "tensor([2.7450, 0.0264])"
      ]
     },
     "execution_count": 10,
     "metadata": {},
     "output_type": "execute_result"
    }
   ],
   "source": [
    "C[5]"
   ]
  },
  {
   "cell_type": "code",
   "execution_count": 11,
   "id": "1d8c46a9-5689-4735-b51e-b8b7b033b1e1",
   "metadata": {},
   "outputs": [
    {
     "data": {
      "text/plain": [
       "tensor([[ 2.7450,  0.0264],\n",
       "        [ 0.1212, -0.7517],\n",
       "        [ 1.3292, -1.4969],\n",
       "        [ 1.3292, -1.4969],\n",
       "        [ 1.3292, -1.4969],\n",
       "        [ 1.3292, -1.4969],\n",
       "        [ 1.3292, -1.4969]])"
      ]
     },
     "execution_count": 11,
     "metadata": {},
     "output_type": "execute_result"
    }
   ],
   "source": [
    "C[torch.tensor([5,6,7,7,7,7,7])] #Rmb that need to change to float to multiply anything with @ C"
   ]
  },
  {
   "cell_type": "code",
   "execution_count": 12,
   "id": "25074e91-9529-4d3c-bb2b-3a506e52ffe8",
   "metadata": {},
   "outputs": [
    {
     "data": {
      "text/plain": [
       "torch.Size([5495, 3, 2])"
      ]
     },
     "execution_count": 12,
     "metadata": {},
     "output_type": "execute_result"
    }
   ],
   "source": [
    "# C : 26,2  \n",
    "# X : 5495, 3\n",
    "# We are looking up 5495 examples, which each contain 3 characters, and each character will have 2 embeds_?\n",
    "C[X].shape "
   ]
  },
  {
   "cell_type": "code",
   "execution_count": 13,
   "id": "52f7a6ca-f04b-4f10-a192-c6704bac71e7",
   "metadata": {},
   "outputs": [
    {
     "data": {
      "text/plain": [
       "tensor(7)"
      ]
     },
     "execution_count": 13,
     "metadata": {},
     "output_type": "execute_result"
    }
   ],
   "source": [
    "X[1,2]"
   ]
  },
  {
   "cell_type": "code",
   "execution_count": 14,
   "id": "a8db2fc7-8639-4d05-ae76-eb67c2e66cab",
   "metadata": {},
   "outputs": [
    {
     "data": {
      "text/plain": [
       "tensor([ 1.3292, -1.4969])"
      ]
     },
     "execution_count": 14,
     "metadata": {},
     "output_type": "execute_result"
    }
   ],
   "source": [
    "C[X][1,2]\n"
   ]
  },
  {
   "cell_type": "code",
   "execution_count": 15,
   "id": "5d044e0e-5eca-4d13-9515-bf0f025091fe",
   "metadata": {},
   "outputs": [
    {
     "data": {
      "text/plain": [
       "tensor([ 1.3292, -1.4969])"
      ]
     },
     "execution_count": 15,
     "metadata": {},
     "output_type": "execute_result"
    }
   ],
   "source": [
    "C[7]"
   ]
  },
  {
   "cell_type": "code",
   "execution_count": 16,
   "id": "13a86672-d056-4858-85d0-1fbf4892b0fb",
   "metadata": {},
   "outputs": [
    {
     "data": {
      "text/plain": [
       "tensor([[ 0.5296, -0.4894],\n",
       "        [ 0.5296, -0.4894],\n",
       "        [ 1.3292, -1.4969]])"
      ]
     },
     "execution_count": 16,
     "metadata": {},
     "output_type": "execute_result"
    }
   ],
   "source": [
    "C[X][1] # Contains the 2 embeds of all 3 characters of the 1-index example"
   ]
  },
  {
   "cell_type": "code",
   "execution_count": 17,
   "id": "29d4dacc-bf2b-4353-b498-dd71416a50c3",
   "metadata": {},
   "outputs": [
    {
     "data": {
      "text/plain": [
       "torch.Size([5495, 3, 2])"
      ]
     },
     "execution_count": 17,
     "metadata": {},
     "output_type": "execute_result"
    }
   ],
   "source": [
    "emb = C[X] #embed\n",
    "emb.shape \n",
    "# 5495 examples / training data\n",
    "# 3 previous characters\n",
    "# 2 \"dimensions\" worth of complexity?"
   ]
  },
  {
   "cell_type": "markdown",
   "id": "a31e3103-df2c-45e4-954b-86c61218bab8",
   "metadata": {},
   "source": [
    "#### Utilizing torch's various functions for tensor manipulation"
   ]
  },
  {
   "cell_type": "code",
   "execution_count": 18,
   "id": "9ea91278-5d46-4c45-8c22-561d3abb51f1",
   "metadata": {},
   "outputs": [
    {
     "data": {
      "text/plain": [
       "tensor([[ 0.5296, -0.4894,  0.5296, -0.4894,  0.5296, -0.4894],\n",
       "        [ 0.5296, -0.4894,  0.5296, -0.4894,  1.3292, -1.4969],\n",
       "        [ 0.5296, -0.4894,  1.3292, -1.4969,  0.5827,  0.6361],\n",
       "        ...,\n",
       "        [ 0.1212, -0.7517, -0.7228, -0.4170,  0.5827,  0.6361],\n",
       "        [-0.7228, -0.4170,  0.5827,  0.6361,  0.4531,  0.8014],\n",
       "        [ 0.5827,  0.6361,  0.4531,  0.8014,  0.5827,  0.6361]])"
      ]
     },
     "execution_count": 18,
     "metadata": {},
     "output_type": "execute_result"
    }
   ],
   "source": [
    "torch.cat([emb[:, 0, :], emb[:, 1, :], emb[:, 2, :]], 1)\n",
    "# use torch.unbind(emb, 1) instead, as if we were to change the block size to eg: 5, then we need to rewrite this\n",
    "# concatenate at dimension 1 not 0!"
   ]
  },
  {
   "cell_type": "code",
   "execution_count": 19,
   "id": "d29f258b-6f3c-4fe7-8560-875d1bde1cd7",
   "metadata": {},
   "outputs": [
    {
     "data": {
      "text/plain": [
       "tensor([[ 0.5296, -0.4894],\n",
       "        [ 0.5296, -0.4894],\n",
       "        [ 1.3292, -1.4969],\n",
       "        ...,\n",
       "        [-0.7228, -0.4170],\n",
       "        [ 0.5827,  0.6361],\n",
       "        [ 0.4531,  0.8014]])"
      ]
     },
     "execution_count": 19,
     "metadata": {},
     "output_type": "execute_result"
    }
   ],
   "source": [
    "emb[:, 1, :] # Note how it concatenates! 2 + 2 + 2 = 6 , 2 from each "
   ]
  },
  {
   "cell_type": "code",
   "execution_count": 20,
   "id": "0c3f7516-9cb7-424a-9a69-cc122497fe17",
   "metadata": {},
   "outputs": [
    {
     "data": {
      "text/plain": [
       "torch.Size([5495, 6])"
      ]
     },
     "execution_count": 20,
     "metadata": {},
     "output_type": "execute_result"
    }
   ],
   "source": [
    "torch.cat([emb[:, 0, :], emb[:, 1, :], emb[:, 2, :]], 1).shape"
   ]
  },
  {
   "cell_type": "code",
   "execution_count": 21,
   "id": "72cc8f67-f893-41ae-8b29-4c9ec0170579",
   "metadata": {},
   "outputs": [
    {
     "data": {
      "text/plain": [
       "torch.Size([5495, 6])"
      ]
     },
     "execution_count": 21,
     "metadata": {},
     "output_type": "execute_result"
    }
   ],
   "source": [
    "# A dynamic way to do it\n",
    "\n",
    "torch.cat(torch.unbind(emb, 1), 1).shape\n",
    "\n",
    "# However, all these concat creates new instances and uses memory. Better to instead use view"
   ]
  },
  {
   "cell_type": "markdown",
   "id": "785804fc-e31a-48cb-8c4a-13ed83f0ce51",
   "metadata": {},
   "source": [
    "#### x.view functionality"
   ]
  },
  {
   "cell_type": "code",
   "execution_count": 22,
   "id": "31c6d978-b8da-47cd-b43c-771b30fc1190",
   "metadata": {},
   "outputs": [
    {
     "data": {
      "text/plain": [
       "tensor([ 0,  1,  2,  3,  4,  5,  6,  7,  8,  9, 10, 11, 12, 13, 14, 15, 16, 17])"
      ]
     },
     "execution_count": 22,
     "metadata": {},
     "output_type": "execute_result"
    }
   ],
   "source": [
    "a = torch.arange(18)\n",
    "a"
   ]
  },
  {
   "cell_type": "code",
   "execution_count": 23,
   "id": "3e2e13cc-79b8-4b82-afd0-f3377286bfab",
   "metadata": {},
   "outputs": [
    {
     "data": {
      "text/plain": [
       "torch.Size([18])"
      ]
     },
     "execution_count": 23,
     "metadata": {},
     "output_type": "execute_result"
    }
   ],
   "source": [
    "a.shape"
   ]
  },
  {
   "cell_type": "code",
   "execution_count": 24,
   "id": "2589d20e-5660-433c-ab62-2eeefd728d3f",
   "metadata": {},
   "outputs": [
    {
     "data": {
      "text/plain": [
       "tensor([[ 0,  1],\n",
       "        [ 2,  3],\n",
       "        [ 4,  5],\n",
       "        [ 6,  7],\n",
       "        [ 8,  9],\n",
       "        [10, 11],\n",
       "        [12, 13],\n",
       "        [14, 15],\n",
       "        [16, 17]])"
      ]
     },
     "execution_count": 24,
     "metadata": {},
     "output_type": "execute_result"
    }
   ],
   "source": [
    "a.view(9,2)\n",
    "#a.view(3,3,2)"
   ]
  },
  {
   "cell_type": "code",
   "execution_count": 25,
   "id": "7925e90a-cd18-4eb1-aa02-a81a807577a4",
   "metadata": {},
   "outputs": [
    {
     "data": {
      "text/plain": [
       "<bound method Tensor.storage of tensor([ 0,  1,  2,  3,  4,  5,  6,  7,  8,  9, 10, 11, 12, 13, 14, 15, 16, 17])>"
      ]
     },
     "execution_count": 25,
     "metadata": {},
     "output_type": "execute_result"
    }
   ],
   "source": [
    "a.storage"
   ]
  },
  {
   "cell_type": "code",
   "execution_count": 26,
   "id": "8ce2da28-fc77-46b1-92dd-e490c8300984",
   "metadata": {},
   "outputs": [
    {
     "data": {
      "text/plain": [
       "torch.Size([5495, 3, 2])"
      ]
     },
     "execution_count": 26,
     "metadata": {},
     "output_type": "execute_result"
    }
   ],
   "source": [
    "emb.shape"
   ]
  },
  {
   "cell_type": "code",
   "execution_count": 27,
   "id": "daaf441e-2d57-414b-9f10-72877437e55e",
   "metadata": {},
   "outputs": [
    {
     "data": {
      "text/plain": [
       "tensor([[True, True, True, True, True, True],\n",
       "        [True, True, True, True, True, True],\n",
       "        [True, True, True, True, True, True],\n",
       "        ...,\n",
       "        [True, True, True, True, True, True],\n",
       "        [True, True, True, True, True, True],\n",
       "        [True, True, True, True, True, True]])"
      ]
     },
     "execution_count": 27,
     "metadata": {},
     "output_type": "execute_result"
    }
   ],
   "source": [
    "emb.view(emb.shape[0], 6) == torch.cat([emb[:, 0, :], emb[:, 1, :], emb[:, 2, :]], 1)\n",
    "#emb.shape[0] can be swapped for -1, pytorch will infer and do the rest"
   ]
  },
  {
   "cell_type": "markdown",
   "id": "0d21cbe7-47c8-44e7-a31d-125c4f9cb858",
   "metadata": {},
   "source": [
    "### Once we are sure everything works"
   ]
  },
  {
   "cell_type": "markdown",
   "id": "802174e8-9a1f-4fb2-bc6b-d1a2ce7dc3e3",
   "metadata": {},
   "source": [
    "#### Initialize our Weights and Biases"
   ]
  },
  {
   "cell_type": "code",
   "execution_count": 28,
   "id": "790594d4-c642-404c-90b1-956008dcc617",
   "metadata": {},
   "outputs": [],
   "source": [
    "W1 = torch.randn((6,100)) #6 because we have 3 previous chars and 2 embedded for each\n",
    "b1 = torch.randn(100) # 100 biases for 100 neurons"
   ]
  },
  {
   "cell_type": "code",
   "execution_count": 29,
   "id": "31da4821-3a58-4dc5-b4a9-fc5c7655f724",
   "metadata": {},
   "outputs": [
    {
     "data": {
      "text/plain": [
       "tensor([[-0.9755, -0.4184,  0.9313,  ..., -0.2808, -0.8976, -0.7103],\n",
       "        [-0.9404,  0.9468,  0.9813,  ..., -0.5729, -0.9655, -0.0229],\n",
       "        [-0.9932, -0.9996,  0.9981,  ...,  0.6625, -0.9080, -0.9971],\n",
       "        ...,\n",
       "        [-0.8962, -0.9997,  0.9496,  ...,  0.3021,  0.1754, -0.9218],\n",
       "        [ 0.9941, -0.9388,  0.7308,  ..., -0.2215, -0.6570,  0.7874],\n",
       "        [ 0.7369, -0.8985,  0.9821,  ...,  0.3505,  0.3658,  0.7896]])"
      ]
     },
     "execution_count": 29,
     "metadata": {},
     "output_type": "execute_result"
    }
   ],
   "source": [
    "h = torch.tanh(emb.view(emb.shape[0],6) @ W1 + b1)\n",
    "h"
   ]
  },
  {
   "cell_type": "markdown",
   "id": "5b312e98-35a2-46fd-a323-e23b16273c4b",
   "metadata": {},
   "source": [
    "##### Checking if addition of W1 and b1, has correct broadcasting"
   ]
  },
  {
   "cell_type": "code",
   "execution_count": 30,
   "id": "dc73200b-bea9-4183-9455-5423028bf917",
   "metadata": {},
   "outputs": [
    {
     "data": {
      "text/plain": [
       "torch.Size([5495, 100])"
      ]
     },
     "execution_count": 30,
     "metadata": {},
     "output_type": "execute_result"
    }
   ],
   "source": [
    "(emb.view(emb.shape[0],6) @ W1).shape"
   ]
  },
  {
   "cell_type": "code",
   "execution_count": 31,
   "id": "fe1d35a4-c7d2-4c61-84a3-41b2257c46d6",
   "metadata": {},
   "outputs": [
    {
     "data": {
      "text/plain": [
       "torch.Size([100])"
      ]
     },
     "execution_count": 31,
     "metadata": {},
     "output_type": "execute_result"
    }
   ],
   "source": [
    "b1.shape"
   ]
  },
  {
   "cell_type": "code",
   "execution_count": 32,
   "id": "f90a219f-ab3e-4493-9dc7-ee30fe7fe982",
   "metadata": {},
   "outputs": [],
   "source": [
    "# 5495, 100\n",
    "#    1, 100\n",
    "\n",
    "# Align to right\n",
    "# Either 1 or non-existent\n",
    "# In this case correct as all the biases will be added to the corresponding elements along the 1st dimension\n",
    "# pytorch basically extends the b1 array from 1 row to 5495 row, duplicating the content and does element wise addition"
   ]
  },
  {
   "cell_type": "markdown",
   "id": "7c6e5243-0dd5-4bad-bfa5-b10e43cad9de",
   "metadata": {},
   "source": [
    "#### Creating final layer"
   ]
  },
  {
   "cell_type": "code",
   "execution_count": 33,
   "id": "e06ce295-5f6f-4eca-a85c-2965c81d0323",
   "metadata": {},
   "outputs": [],
   "source": [
    "W2 = torch.randn((100,lenMap)) #6 because we have 3 previous chars and 2 embedded for each\n",
    "b2 = torch.randn(lenMap) # lenMap biases for lenMap Neurons, in this case we have 26 characters!"
   ]
  },
  {
   "cell_type": "code",
   "execution_count": 34,
   "id": "50116c92-21dc-45d8-9ee2-4342b59009a8",
   "metadata": {},
   "outputs": [
    {
     "data": {
      "text/plain": [
       "torch.Size([5495, 26])"
      ]
     },
     "execution_count": 34,
     "metadata": {},
     "output_type": "execute_result"
    }
   ],
   "source": [
    "logits = h @ W2 + b2\n",
    "logits.shape"
   ]
  },
  {
   "cell_type": "code",
   "execution_count": 35,
   "id": "2256a18a-c96f-40ab-ba46-f40e77caa343",
   "metadata": {},
   "outputs": [],
   "source": [
    "# exponentiate our logits to get our fake counts\n",
    "counts = logits.exp() "
   ]
  },
  {
   "cell_type": "code",
   "execution_count": 36,
   "id": "7b0261b2-2158-4108-a04d-79c3e5eae626",
   "metadata": {},
   "outputs": [
    {
     "data": {
      "text/plain": [
       "torch.Size([5495, 26])"
      ]
     },
     "execution_count": 36,
     "metadata": {},
     "output_type": "execute_result"
    }
   ],
   "source": [
    "prob = counts / counts.sum(1, keepdims=True)\n",
    "prob.shape"
   ]
  },
  {
   "cell_type": "code",
   "execution_count": 37,
   "id": "c83209af-cc14-4f60-927f-5cd8528b47cf",
   "metadata": {},
   "outputs": [
    {
     "data": {
      "text/plain": [
       "tensor(1.0000)"
      ]
     },
     "execution_count": 37,
     "metadata": {},
     "output_type": "execute_result"
    }
   ],
   "source": [
    "#Normalized\n",
    "prob[0].sum()"
   ]
  },
  {
   "cell_type": "markdown",
   "id": "164dfe34-5e27-4323-8616-0cdc325dd90e",
   "metadata": {},
   "source": [
    "##### Grabbing our model's results of the corresponding Y(answer)"
   ]
  },
  {
   "cell_type": "code",
   "execution_count": 38,
   "id": "e4cf1ccf-dbd6-4c0a-91af-fcb588d40c42",
   "metadata": {},
   "outputs": [
    {
     "data": {
      "text/plain": [
       "tensor([5.4203e-07, 4.0282e-07, 1.5054e-03,  ..., 1.4809e-12, 4.0753e-19,\n",
       "        2.6346e-09])"
      ]
     },
     "execution_count": 38,
     "metadata": {},
     "output_type": "execute_result"
    }
   ],
   "source": [
    "prob[torch.arange(prob.shape[0]), Y]"
   ]
  },
  {
   "cell_type": "markdown",
   "id": "44d5a3fb-0dc1-4b8c-88b2-2293928dea91",
   "metadata": {},
   "source": [
    "#### Finding our nll"
   ]
  },
  {
   "cell_type": "code",
   "execution_count": 39,
   "id": "ec5dbc84-e1c9-48b6-82b0-00649d8a70ff",
   "metadata": {},
   "outputs": [
    {
     "data": {
      "text/plain": [
       "tensor(18.3936)"
      ]
     },
     "execution_count": 39,
     "metadata": {},
     "output_type": "execute_result"
    }
   ],
   "source": [
    "loss = -prob[torch.arange(prob.shape[0]), Y].log().mean()\n",
    "loss"
   ]
  },
  {
   "cell_type": "markdown",
   "id": "903a2ba5-c855-4af2-8090-c2264d77ea40",
   "metadata": {},
   "source": [
    "## Made respectable"
   ]
  },
  {
   "cell_type": "code",
   "execution_count": 40,
   "id": "2fd37a6c-69bd-4c0f-8e3a-a36ce8a80ece",
   "metadata": {},
   "outputs": [
    {
     "data": {
      "text/plain": [
       "(torch.Size([5495, 3]), torch.Size([5495]))"
      ]
     },
     "execution_count": 40,
     "metadata": {},
     "output_type": "execute_result"
    }
   ],
   "source": [
    "X.shape, Y.shape"
   ]
  },
  {
   "cell_type": "code",
   "execution_count": 55,
   "id": "d38b12f7-61c6-4da6-8369-2ff752dcf403",
   "metadata": {},
   "outputs": [],
   "source": [
    "g = torch.Generator().manual_seed(2147483647)\n",
    "C = torch.randn((lenMap,2), generator = g) # look up table\n",
    "W1 = torch.randn((6,100), generator = g)\n",
    "b1 = torch.randn(100, generator = g)\n",
    "W2 = torch.randn((100, lenMap), generator = g)\n",
    "b2 = torch.randn(lenMap, generator = g)\n",
    "parameters = [C,W1,b1,W2,b2]"
   ]
  },
  {
   "cell_type": "code",
   "execution_count": 56,
   "id": "16a95d8d-b7c3-447d-b949-bbda83ac631a",
   "metadata": {},
   "outputs": [
    {
     "data": {
      "text/plain": [
       "3378"
      ]
     },
     "execution_count": 56,
     "metadata": {},
     "output_type": "execute_result"
    }
   ],
   "source": [
    "sum(p.nelement() for p in parameters) # number of parameters in total"
   ]
  },
  {
   "cell_type": "code",
   "execution_count": 57,
   "id": "ea984927-fd8c-4183-b0af-6a9f269984be",
   "metadata": {},
   "outputs": [],
   "source": [
    "for p in parameters:\n",
    "    p.requires_grad = True"
   ]
  },
  {
   "cell_type": "markdown",
   "id": "441acb0c-7ac7-4649-9a9a-7e4fe8bb80ac",
   "metadata": {},
   "source": [
    "##### FInding the best learning rate"
   ]
  },
  {
   "cell_type": "code",
   "execution_count": 58,
   "id": "9e7c1ddc-79c4-47dc-8604-97e5d1bb31d5",
   "metadata": {},
   "outputs": [
    {
     "data": {
      "text/plain": [
       "tensor([0.0010, 0.0010, 0.0010, 0.0010, 0.0010, 0.0010, 0.0010, 0.0010, 0.0011,\n",
       "        0.0011, 0.0011, 0.0011, 0.0011, 0.0011, 0.0011, 0.0011, 0.0011, 0.0011,\n",
       "        0.0011, 0.0011, 0.0011, 0.0012, 0.0012, 0.0012, 0.0012, 0.0012, 0.0012,\n",
       "        0.0012, 0.0012, 0.0012, 0.0012, 0.0012, 0.0012, 0.0013, 0.0013, 0.0013,\n",
       "        0.0013, 0.0013, 0.0013, 0.0013, 0.0013, 0.0013, 0.0013, 0.0013, 0.0014,\n",
       "        0.0014, 0.0014, 0.0014, 0.0014, 0.0014, 0.0014, 0.0014, 0.0014, 0.0014,\n",
       "        0.0015, 0.0015, 0.0015, 0.0015, 0.0015, 0.0015, 0.0015, 0.0015, 0.0015,\n",
       "        0.0015, 0.0016, 0.0016, 0.0016, 0.0016, 0.0016, 0.0016, 0.0016, 0.0016,\n",
       "        0.0016, 0.0017, 0.0017, 0.0017, 0.0017, 0.0017, 0.0017, 0.0017, 0.0017,\n",
       "        0.0018, 0.0018, 0.0018, 0.0018, 0.0018, 0.0018, 0.0018, 0.0018, 0.0019,\n",
       "        0.0019, 0.0019, 0.0019, 0.0019, 0.0019, 0.0019, 0.0019, 0.0020, 0.0020,\n",
       "        0.0020, 0.0020, 0.0020, 0.0020, 0.0020, 0.0021, 0.0021, 0.0021, 0.0021,\n",
       "        0.0021, 0.0021, 0.0021, 0.0022, 0.0022, 0.0022, 0.0022, 0.0022, 0.0022,\n",
       "        0.0022, 0.0023, 0.0023, 0.0023, 0.0023, 0.0023, 0.0023, 0.0024, 0.0024,\n",
       "        0.0024, 0.0024, 0.0024, 0.0024, 0.0025, 0.0025, 0.0025, 0.0025, 0.0025,\n",
       "        0.0025, 0.0026, 0.0026, 0.0026, 0.0026, 0.0026, 0.0027, 0.0027, 0.0027,\n",
       "        0.0027, 0.0027, 0.0027, 0.0028, 0.0028, 0.0028, 0.0028, 0.0028, 0.0029,\n",
       "        0.0029, 0.0029, 0.0029, 0.0029, 0.0030, 0.0030, 0.0030, 0.0030, 0.0030,\n",
       "        0.0031, 0.0031, 0.0031, 0.0031, 0.0032, 0.0032, 0.0032, 0.0032, 0.0032,\n",
       "        0.0033, 0.0033, 0.0033, 0.0033, 0.0034, 0.0034, 0.0034, 0.0034, 0.0034,\n",
       "        0.0035, 0.0035, 0.0035, 0.0035, 0.0036, 0.0036, 0.0036, 0.0036, 0.0037,\n",
       "        0.0037, 0.0037, 0.0037, 0.0038, 0.0038, 0.0038, 0.0039, 0.0039, 0.0039,\n",
       "        0.0039, 0.0040, 0.0040, 0.0040, 0.0040, 0.0041, 0.0041, 0.0041, 0.0042,\n",
       "        0.0042, 0.0042, 0.0042, 0.0043, 0.0043, 0.0043, 0.0044, 0.0044, 0.0044,\n",
       "        0.0045, 0.0045, 0.0045, 0.0045, 0.0046, 0.0046, 0.0046, 0.0047, 0.0047,\n",
       "        0.0047, 0.0048, 0.0048, 0.0048, 0.0049, 0.0049, 0.0049, 0.0050, 0.0050,\n",
       "        0.0050, 0.0051, 0.0051, 0.0051, 0.0052, 0.0052, 0.0053, 0.0053, 0.0053,\n",
       "        0.0054, 0.0054, 0.0054, 0.0055, 0.0055, 0.0056, 0.0056, 0.0056, 0.0057,\n",
       "        0.0057, 0.0058, 0.0058, 0.0058, 0.0059, 0.0059, 0.0060, 0.0060, 0.0060,\n",
       "        0.0061, 0.0061, 0.0062, 0.0062, 0.0062, 0.0063, 0.0063, 0.0064, 0.0064,\n",
       "        0.0065, 0.0065, 0.0066, 0.0066, 0.0067, 0.0067, 0.0067, 0.0068, 0.0068,\n",
       "        0.0069, 0.0069, 0.0070, 0.0070, 0.0071, 0.0071, 0.0072, 0.0072, 0.0073,\n",
       "        0.0073, 0.0074, 0.0074, 0.0075, 0.0075, 0.0076, 0.0076, 0.0077, 0.0077,\n",
       "        0.0078, 0.0079, 0.0079, 0.0080, 0.0080, 0.0081, 0.0081, 0.0082, 0.0082,\n",
       "        0.0083, 0.0084, 0.0084, 0.0085, 0.0085, 0.0086, 0.0086, 0.0087, 0.0088,\n",
       "        0.0088, 0.0089, 0.0090, 0.0090, 0.0091, 0.0091, 0.0092, 0.0093, 0.0093,\n",
       "        0.0094, 0.0095, 0.0095, 0.0096, 0.0097, 0.0097, 0.0098, 0.0099, 0.0099,\n",
       "        0.0100, 0.0101, 0.0101, 0.0102, 0.0103, 0.0104, 0.0104, 0.0105, 0.0106,\n",
       "        0.0106, 0.0107, 0.0108, 0.0109, 0.0109, 0.0110, 0.0111, 0.0112, 0.0112,\n",
       "        0.0113, 0.0114, 0.0115, 0.0116, 0.0116, 0.0117, 0.0118, 0.0119, 0.0120,\n",
       "        0.0121, 0.0121, 0.0122, 0.0123, 0.0124, 0.0125, 0.0126, 0.0127, 0.0127,\n",
       "        0.0128, 0.0129, 0.0130, 0.0131, 0.0132, 0.0133, 0.0134, 0.0135, 0.0136,\n",
       "        0.0137, 0.0137, 0.0138, 0.0139, 0.0140, 0.0141, 0.0142, 0.0143, 0.0144,\n",
       "        0.0145, 0.0146, 0.0147, 0.0148, 0.0149, 0.0150, 0.0151, 0.0152, 0.0154,\n",
       "        0.0155, 0.0156, 0.0157, 0.0158, 0.0159, 0.0160, 0.0161, 0.0162, 0.0163,\n",
       "        0.0165, 0.0166, 0.0167, 0.0168, 0.0169, 0.0170, 0.0171, 0.0173, 0.0174,\n",
       "        0.0175, 0.0176, 0.0178, 0.0179, 0.0180, 0.0181, 0.0182, 0.0184, 0.0185,\n",
       "        0.0186, 0.0188, 0.0189, 0.0190, 0.0192, 0.0193, 0.0194, 0.0196, 0.0197,\n",
       "        0.0198, 0.0200, 0.0201, 0.0202, 0.0204, 0.0205, 0.0207, 0.0208, 0.0210,\n",
       "        0.0211, 0.0212, 0.0214, 0.0215, 0.0217, 0.0218, 0.0220, 0.0221, 0.0223,\n",
       "        0.0225, 0.0226, 0.0228, 0.0229, 0.0231, 0.0232, 0.0234, 0.0236, 0.0237,\n",
       "        0.0239, 0.0241, 0.0242, 0.0244, 0.0246, 0.0247, 0.0249, 0.0251, 0.0253,\n",
       "        0.0254, 0.0256, 0.0258, 0.0260, 0.0261, 0.0263, 0.0265, 0.0267, 0.0269,\n",
       "        0.0271, 0.0273, 0.0274, 0.0276, 0.0278, 0.0280, 0.0282, 0.0284, 0.0286,\n",
       "        0.0288, 0.0290, 0.0292, 0.0294, 0.0296, 0.0298, 0.0300, 0.0302, 0.0304,\n",
       "        0.0307, 0.0309, 0.0311, 0.0313, 0.0315, 0.0317, 0.0320, 0.0322, 0.0324,\n",
       "        0.0326, 0.0328, 0.0331, 0.0333, 0.0335, 0.0338, 0.0340, 0.0342, 0.0345,\n",
       "        0.0347, 0.0350, 0.0352, 0.0354, 0.0357, 0.0359, 0.0362, 0.0364, 0.0367,\n",
       "        0.0369, 0.0372, 0.0375, 0.0377, 0.0380, 0.0382, 0.0385, 0.0388, 0.0390,\n",
       "        0.0393, 0.0396, 0.0399, 0.0401, 0.0404, 0.0407, 0.0410, 0.0413, 0.0416,\n",
       "        0.0418, 0.0421, 0.0424, 0.0427, 0.0430, 0.0433, 0.0436, 0.0439, 0.0442,\n",
       "        0.0445, 0.0448, 0.0451, 0.0455, 0.0458, 0.0461, 0.0464, 0.0467, 0.0471,\n",
       "        0.0474, 0.0477, 0.0480, 0.0484, 0.0487, 0.0491, 0.0494, 0.0497, 0.0501,\n",
       "        0.0504, 0.0508, 0.0511, 0.0515, 0.0518, 0.0522, 0.0526, 0.0529, 0.0533,\n",
       "        0.0537, 0.0540, 0.0544, 0.0548, 0.0552, 0.0556, 0.0559, 0.0563, 0.0567,\n",
       "        0.0571, 0.0575, 0.0579, 0.0583, 0.0587, 0.0591, 0.0595, 0.0599, 0.0604,\n",
       "        0.0608, 0.0612, 0.0616, 0.0621, 0.0625, 0.0629, 0.0634, 0.0638, 0.0642,\n",
       "        0.0647, 0.0651, 0.0656, 0.0660, 0.0665, 0.0670, 0.0674, 0.0679, 0.0684,\n",
       "        0.0688, 0.0693, 0.0698, 0.0703, 0.0708, 0.0713, 0.0718, 0.0723, 0.0728,\n",
       "        0.0733, 0.0738, 0.0743, 0.0748, 0.0753, 0.0758, 0.0764, 0.0769, 0.0774,\n",
       "        0.0780, 0.0785, 0.0790, 0.0796, 0.0802, 0.0807, 0.0813, 0.0818, 0.0824,\n",
       "        0.0830, 0.0835, 0.0841, 0.0847, 0.0853, 0.0859, 0.0865, 0.0871, 0.0877,\n",
       "        0.0883, 0.0889, 0.0895, 0.0901, 0.0908, 0.0914, 0.0920, 0.0927, 0.0933,\n",
       "        0.0940, 0.0946, 0.0953, 0.0959, 0.0966, 0.0973, 0.0979, 0.0986, 0.0993,\n",
       "        0.1000, 0.1007, 0.1014, 0.1021, 0.1028, 0.1035, 0.1042, 0.1050, 0.1057,\n",
       "        0.1064, 0.1072, 0.1079, 0.1087, 0.1094, 0.1102, 0.1109, 0.1117, 0.1125,\n",
       "        0.1133, 0.1140, 0.1148, 0.1156, 0.1164, 0.1172, 0.1181, 0.1189, 0.1197,\n",
       "        0.1205, 0.1214, 0.1222, 0.1231, 0.1239, 0.1248, 0.1256, 0.1265, 0.1274,\n",
       "        0.1283, 0.1292, 0.1301, 0.1310, 0.1319, 0.1328, 0.1337, 0.1346, 0.1356,\n",
       "        0.1365, 0.1374, 0.1384, 0.1394, 0.1403, 0.1413, 0.1423, 0.1433, 0.1443,\n",
       "        0.1453, 0.1463, 0.1473, 0.1483, 0.1493, 0.1504, 0.1514, 0.1525, 0.1535,\n",
       "        0.1546, 0.1557, 0.1567, 0.1578, 0.1589, 0.1600, 0.1611, 0.1623, 0.1634,\n",
       "        0.1645, 0.1657, 0.1668, 0.1680, 0.1691, 0.1703, 0.1715, 0.1727, 0.1739,\n",
       "        0.1751, 0.1763, 0.1775, 0.1788, 0.1800, 0.1812, 0.1825, 0.1838, 0.1850,\n",
       "        0.1863, 0.1876, 0.1889, 0.1902, 0.1916, 0.1929, 0.1942, 0.1956, 0.1969,\n",
       "        0.1983, 0.1997, 0.2010, 0.2024, 0.2038, 0.2053, 0.2067, 0.2081, 0.2096,\n",
       "        0.2110, 0.2125, 0.2140, 0.2154, 0.2169, 0.2184, 0.2200, 0.2215, 0.2230,\n",
       "        0.2246, 0.2261, 0.2277, 0.2293, 0.2309, 0.2325, 0.2341, 0.2357, 0.2373,\n",
       "        0.2390, 0.2406, 0.2423, 0.2440, 0.2457, 0.2474, 0.2491, 0.2508, 0.2526,\n",
       "        0.2543, 0.2561, 0.2579, 0.2597, 0.2615, 0.2633, 0.2651, 0.2669, 0.2688,\n",
       "        0.2707, 0.2725, 0.2744, 0.2763, 0.2783, 0.2802, 0.2821, 0.2841, 0.2861,\n",
       "        0.2880, 0.2900, 0.2921, 0.2941, 0.2961, 0.2982, 0.3002, 0.3023, 0.3044,\n",
       "        0.3065, 0.3087, 0.3108, 0.3130, 0.3151, 0.3173, 0.3195, 0.3217, 0.3240,\n",
       "        0.3262, 0.3285, 0.3308, 0.3331, 0.3354, 0.3377, 0.3400, 0.3424, 0.3448,\n",
       "        0.3472, 0.3496, 0.3520, 0.3544, 0.3569, 0.3594, 0.3619, 0.3644, 0.3669,\n",
       "        0.3695, 0.3720, 0.3746, 0.3772, 0.3798, 0.3825, 0.3851, 0.3878, 0.3905,\n",
       "        0.3932, 0.3959, 0.3987, 0.4014, 0.4042, 0.4070, 0.4098, 0.4127, 0.4155,\n",
       "        0.4184, 0.4213, 0.4243, 0.4272, 0.4302, 0.4331, 0.4362, 0.4392, 0.4422,\n",
       "        0.4453, 0.4484, 0.4515, 0.4546, 0.4578, 0.4610, 0.4642, 0.4674, 0.4706,\n",
       "        0.4739, 0.4772, 0.4805, 0.4838, 0.4872, 0.4906, 0.4940, 0.4974, 0.5008,\n",
       "        0.5043, 0.5078, 0.5113, 0.5149, 0.5185, 0.5221, 0.5257, 0.5293, 0.5330,\n",
       "        0.5367, 0.5404, 0.5442, 0.5479, 0.5517, 0.5556, 0.5594, 0.5633, 0.5672,\n",
       "        0.5712, 0.5751, 0.5791, 0.5831, 0.5872, 0.5913, 0.5954, 0.5995, 0.6036,\n",
       "        0.6078, 0.6120, 0.6163, 0.6206, 0.6249, 0.6292, 0.6336, 0.6380, 0.6424,\n",
       "        0.6469, 0.6513, 0.6559, 0.6604, 0.6650, 0.6696, 0.6743, 0.6789, 0.6837,\n",
       "        0.6884, 0.6932, 0.6980, 0.7028, 0.7077, 0.7126, 0.7176, 0.7225, 0.7275,\n",
       "        0.7326, 0.7377, 0.7428, 0.7480, 0.7531, 0.7584, 0.7636, 0.7689, 0.7743,\n",
       "        0.7796, 0.7850, 0.7905, 0.7960, 0.8015, 0.8071, 0.8127, 0.8183, 0.8240,\n",
       "        0.8297, 0.8355, 0.8412, 0.8471, 0.8530, 0.8589, 0.8648, 0.8708, 0.8769,\n",
       "        0.8830, 0.8891, 0.8953, 0.9015, 0.9077, 0.9140, 0.9204, 0.9268, 0.9332,\n",
       "        0.9397, 0.9462, 0.9528, 0.9594, 0.9660, 0.9727, 0.9795, 0.9863, 0.9931,\n",
       "        1.0000])"
      ]
     },
     "execution_count": 58,
     "metadata": {},
     "output_type": "execute_result"
    }
   ],
   "source": [
    "lre = torch.linspace(-3, 0, 1000 ) # Learning rate exponent. Creates 1000 nums btwn -3 and 0\n",
    "lrs = 10**lre # so we are stepping in bewteen 10^-3 and 0^-3 which is 0.001 and 1\n",
    "lrs"
   ]
  },
  {
   "cell_type": "code",
   "execution_count": 60,
   "id": "3207b192-1d03-49f0-aba6-2092cc1ac1fb",
   "metadata": {},
   "outputs": [
    {
     "name": "stdout",
     "output_type": "stream",
     "text": [
      "0.37035253643989563\n"
     ]
    }
   ],
   "source": [
    "lri = []\n",
    "lossi= []\n",
    "\n",
    "for i in range(100000):\n",
    "\n",
    "    # MINIBATCH CONSTRUCT\n",
    "    # Generate 32 numbers btwn 0 and X.shape[0]\n",
    "    # Notice that it takes alot of time to calculate. Instead we should do forward and backward passes from mini batches\n",
    "    ix = torch.randint(0, X.shape[0], (32,))\n",
    "    \n",
    "    # FORWARD PASS\n",
    "    emb = C[X[ix]] # 32, 3, 2\n",
    "    h = torch.tanh(emb.view(-1,6) @ W1 + b1) # 32, 100\n",
    "    logits = h @ W2 + b2 # (32, lenMap)\n",
    "    #counts = logits.exp()\n",
    "    #prob = counts / counts.sum(1, keepdims=True)\n",
    "    #prob[0].sum()\n",
    "    #loss = -prob[torch.arange(prob.shape[0]), Y].log().mean()\n",
    "    # Similar to classification and already has inbuilt function CROSS ENTROPY\n",
    "    # Much more efficient *clustered mathematical operations*\n",
    "    # Avoids unbehaved very positive logits as well, where when exponentiated gives nan (run out of numbers to represent)\n",
    "    loss = F.cross_entropy(logits, Y[ix])\n",
    "    #print(loss.item())\n",
    "    \n",
    "    # BACKWARD PASS\n",
    "    for p in parameters:\n",
    "        p.grad = None\n",
    "    loss.backward()\n",
    "    \n",
    "    # UPDATE\n",
    "    lr = 0.1\n",
    "    for p in parameters:\n",
    "        p.data += -lr * p.grad\n",
    "\n",
    "    # TRACK STATS\n",
    "    #lri.append(lre[i]) # ploted against exponent\n",
    "    #lossi.append(loss.item())\n",
    "\n",
    "print(loss.item())\n",
    "# Cannot completely get 0 loss due to ...--->many chars"
   ]
  },
  {
   "cell_type": "code",
   "execution_count": 54,
   "id": "c5fb199d-a524-4538-8e92-cd7381e9f773",
   "metadata": {},
   "outputs": [
    {
     "data": {
      "text/plain": [
       "[<matplotlib.lines.Line2D at 0x184b715fc10>]"
      ]
     },
     "execution_count": 54,
     "metadata": {},
     "output_type": "execute_result"
    },
    {
     "data": {
      "image/png": "[encoded data removed]",
      "text/plain": [
       "<Figure size 640x480 with 1 Axes>"
      ]
     },
     "metadata": {},
     "output_type": "display_data"
    }
   ],
   "source": [
    "#import os    \n",
    "#os.environ['KMP_DUPLICATE_LIB_OK'] = 'True'\n",
    "\n",
    "#plt.plot(lri,lossi)"
   ]
  },
  {
   "cell_type": "code",
   "execution_count": 47,
   "id": "49aa0579-dc1b-41d6-86fb-da38feb0eb4e",
   "metadata": {},
   "outputs": [
    {
     "data": {
      "text/plain": [
       "torch.return_types.max(\n",
       "values=tensor([ 7.1186,  9.2330,  7.4602,  6.8703,  9.7745,  5.0888,  9.1909,  8.4568,\n",
       "        13.6887, 13.4177,  9.4815,  7.8784, 13.2248,  9.4815,  7.5629,  9.1909,\n",
       "         8.8562,  9.3250,  4.8949, 11.7279,  7.2558,  6.6266,  8.4072,  7.7619,\n",
       "         9.1329,  7.3743,  7.8086,  3.5040,  9.8403,  6.7603,  8.1651,  7.0583],\n",
       "       grad_fn=<MaxBackward0>),\n",
       "indices=tensor([ 9, 13,  6, 18, 18,  9, 22, 18,  9,  0,  4,  5,  5,  4,  5, 22, 22, 24,\n",
       "        12, 22,  6,  4,  6, 12, 12, 21, 12,  5, 14, 23, 12,  6]))"
      ]
     },
     "execution_count": 47,
     "metadata": {},
     "output_type": "execute_result"
    }
   ],
   "source": [
    "#logits.max(1) #What is predicting"
   ]
  },
  {
   "cell_type": "code",
   "execution_count": 48,
   "id": "85bfc6cc-49a4-47cb-83fc-11099c80451f",
   "metadata": {},
   "outputs": [
    {
     "data": {
      "text/plain": [
       "tensor([ 7, 18, 15,  ..., 10, 18,  0])"
      ]
     },
     "execution_count": 48,
     "metadata": {},
     "output_type": "execute_result"
    }
   ],
   "source": [
    "#Y"
   ]
  },
  {
   "cell_type": "code",
   "execution_count": 62,
   "id": "1f45a755-7505-43f6-b4af-cccb37e3bda2",
   "metadata": {},
   "outputs": [
    {
     "data": {
      "text/plain": [
       "tensor(0.3810, grad_fn=<NllLossBackward0>)"
      ]
     },
     "execution_count": 62,
     "metadata": {},
     "output_type": "execute_result"
    }
   ],
   "source": [
    "# Looking at total loss and not just the batches of 32\n",
    "emb = C[X]\n",
    "h= torch.tanh(emb.view(-1,6) @ W1 + b1)\n",
    "logits = h @ W2 + b2\n",
    "loss = F.cross_entropy(logits, Y)\n",
    "loss\n",
    "# We have already surpassed effectiveness of Bigram"
   ]
  },
  {
   "cell_type": "markdown",
   "id": "866d5004-b7a7-430a-94d6-f0f35302084e",
   "metadata": {},
   "source": [
    "### training split, dev/validation split, test split"
   ]
  },
  {
   "cell_type": "code",
   "execution_count": 63,
   "id": "d40d399c-f625-4113-a482-cf6ca9293d17",
   "metadata": {},
   "outputs": [],
   "source": [
    "# 80%, 10%, 10%\n",
    "# training for parameters\n",
    "# validation for hyperparameters (hyperparameters are for example number of neurons/no. of embed) (hidden)\n",
    "# test for final loss"
   ]
  },
  {
   "cell_type": "code",
   "execution_count": 64,
   "id": "48641306-d368-4cf9-9449-d8bfea08605c",
   "metadata": {},
   "outputs": [
    {
     "name": "stdout",
     "output_type": "stream",
     "text": [
      "torch.Size([4376, 3]) torch.Size([4376])\n",
      "torch.Size([573, 3]) torch.Size([573])\n",
      "torch.Size([546, 3]) torch.Size([546])\n"
     ]
    }
   ],
   "source": [
    "# build the dataset\n",
    "block_size = 3 # context length: how many characters do we take to predict the next one?\n",
    "\n",
    "def build_dataset(words):  \n",
    "  X, Y = [], []\n",
    "  for w in words:\n",
    "\n",
    "    #print(w)\n",
    "    context = [0] * block_size\n",
    "    for ch in w + '.':\n",
    "      ix = stoi[ch]\n",
    "      X.append(context)\n",
    "      Y.append(ix)\n",
    "      #print(''.join(itos[i] for i in context), '--->', itos[ix])\n",
    "      context = context[1:] + [ix] # crop and append\n",
    "\n",
    "  X = torch.tensor(X)\n",
    "  Y = torch.tensor(Y)\n",
    "  print(X.shape, Y.shape)\n",
    "  return X, Y\n",
    "\n",
    "import random\n",
    "random.seed(42)\n",
    "random.shuffle(words)\n",
    "n1 = int(0.8*len(words))\n",
    "n2 = int(0.9*len(words))\n",
    "\n",
    "Xtr, Ytr = build_dataset(words[:n1])\n",
    "Xdev, Ydev = build_dataset(words[n1:n2])\n",
    "Xte, Yte = build_dataset(words[n2:])"
   ]
  },
  {
   "cell_type": "code",
   "execution_count": 65,
   "id": "5ed9e28b-adda-426a-b378-3e8288811b3d",
   "metadata": {},
   "outputs": [
    {
     "data": {
      "text/plain": [
       "397"
      ]
     },
     "execution_count": 65,
     "metadata": {},
     "output_type": "execute_result"
    }
   ],
   "source": [
    "len(words)"
   ]
  },
  {
   "cell_type": "code",
   "execution_count": 66,
   "id": "43d0bc3d-1bd7-4dfb-8416-ec873f661c46",
   "metadata": {},
   "outputs": [
    {
     "data": {
      "text/plain": [
       "317"
      ]
     },
     "execution_count": 66,
     "metadata": {},
     "output_type": "execute_result"
    }
   ],
   "source": [
    "n1"
   ]
  },
  {
   "cell_type": "code",
   "execution_count": 67,
   "id": "e36552a4-8350-47a0-9948-7d38f0fd54ed",
   "metadata": {},
   "outputs": [
    {
     "data": {
      "text/plain": [
       "357"
      ]
     },
     "execution_count": 67,
     "metadata": {},
     "output_type": "execute_result"
    }
   ],
   "source": [
    "n2"
   ]
  },
  {
   "cell_type": "markdown",
   "id": "3355c5fc-7a00-42de-a5fc-f033b481aa30",
   "metadata": {},
   "source": [
    "#### Now using only the training Xtr for training"
   ]
  },
  {
   "cell_type": "code",
   "execution_count": 101,
   "id": "9deded9a-4bd3-44ce-9258-544cbb7d0122",
   "metadata": {},
   "outputs": [
    {
     "data": {
      "text/plain": [
       "(torch.Size([4376, 3]), torch.Size([4376]))"
      ]
     },
     "execution_count": 101,
     "metadata": {},
     "output_type": "execute_result"
    }
   ],
   "source": [
    "Xtr.shape, Ytr.shape # dataset"
   ]
  },
  {
   "cell_type": "code",
   "execution_count": 102,
   "id": "eb79a21e-98dc-4a0e-8df0-ab4004e47ab5",
   "metadata": {},
   "outputs": [
    {
     "data": {
      "text/plain": [
       "6"
      ]
     },
     "execution_count": 102,
     "metadata": {},
     "output_type": "execute_result"
    }
   ],
   "source": [
    "# To not hardcode anything embedded related : \n",
    "num_embed = 2\n",
    "feeded = block_size * num_embed\n",
    "feeded"
   ]
  },
  {
   "cell_type": "code",
   "execution_count": 103,
   "id": "c7baa4b7-7633-4ca6-b267-08858694dfe0",
   "metadata": {},
   "outputs": [],
   "source": [
    "g = torch.Generator().manual_seed(2147483647) # for reproducibility\n",
    "C = torch.randn((lenMap, num_embed), generator=g) #You may scale up from 2 embeddings to 10 # Change eveything else accordingly\n",
    "W1 = torch.randn((feeded, 200), generator=g) #Scaled up neural net 100 -> 200\n",
    "b1 = torch.randn(200, generator=g) #Scaled up neural net\n",
    "W2 = torch.randn((200, lenMap), generator=g)\n",
    "b2 = torch.randn(lenMap, generator=g)\n",
    "parameters = [C, W1, b1, W2, b2]"
   ]
  },
  {
   "cell_type": "code",
   "execution_count": 104,
   "id": "0a75335f-ee63-4512-85d9-a01840ea5bd4",
   "metadata": {},
   "outputs": [
    {
     "data": {
      "text/plain": [
       "6678"
      ]
     },
     "execution_count": 104,
     "metadata": {},
     "output_type": "execute_result"
    }
   ],
   "source": [
    "sum(p.nelement() for p in parameters) # number of parameters in total"
   ]
  },
  {
   "cell_type": "code",
   "execution_count": 105,
   "id": "72c68c22-655c-49b4-ada0-d4edb59355ef",
   "metadata": {},
   "outputs": [],
   "source": [
    "for p in parameters:\n",
    "  p.requires_grad = True"
   ]
  },
  {
   "cell_type": "code",
   "execution_count": 106,
   "id": "6e546577-0914-4513-9a25-f71b28a149bc",
   "metadata": {},
   "outputs": [],
   "source": [
    "lre = torch.linspace(-3, 0, 1000)\n",
    "lrs = 10**lre\n",
    "lri = []\n",
    "lossi = []\n",
    "stepi = []"
   ]
  },
  {
   "cell_type": "code",
   "execution_count": 107,
   "id": "681e10c0-877d-4b5e-b70a-7ffd04101a2f",
   "metadata": {},
   "outputs": [],
   "source": [
    "for i in range(20000):\n",
    "  \n",
    "  # minibatch construct\n",
    "  ix = torch.randint(0, Xtr.shape[0], (32,))\n",
    "  \n",
    "  # forward pass\n",
    "  emb = C[Xtr[ix]] # (32, 3, 10)\n",
    "  h = torch.tanh(emb.view(-1, feeded) @ W1 + b1) # (32, 200)\n",
    "  logits = h @ W2 + b2 # (32, 27)\n",
    "  loss = F.cross_entropy(logits, Ytr[ix])\n",
    "  #print(loss.item())\n",
    "  \n",
    "  # backward pass\n",
    "  for p in parameters:\n",
    "    p.grad = None\n",
    "  loss.backward()\n",
    "  \n",
    "  # update\n",
    "  #lr = lrs[i]\n",
    "  lr = 0.1 if i < 100000 else 0.01\n",
    "  for p in parameters:\n",
    "    p.data += -lr * p.grad\n",
    "\n",
    "  # track stats\n",
    "  #lri.append(lre[i])\n",
    "  stepi.append(i)\n",
    "  lossi.append(loss.log10().item())\n",
    "\n",
    "#print(loss.item())"
   ]
  },
  {
   "cell_type": "code",
   "execution_count": 108,
   "id": "556d19ce-d5c5-4552-8291-6a78f6d82eb6",
   "metadata": {},
   "outputs": [
    {
     "data": {
      "text/plain": [
       "tensor(0.4211, grad_fn=<NllLossBackward0>)"
      ]
     },
     "execution_count": 108,
     "metadata": {},
     "output_type": "execute_result"
    }
   ],
   "source": [
    "emb = C[Xtr] # (32, 3, 2)\n",
    "h = torch.tanh(emb.view(-1, feeded) @ W1 + b1) # (32, 100)\n",
    "logits = h @ W2 + b2 # (32, 27)\n",
    "loss = F.cross_entropy(logits, Ytr)\n",
    "loss"
   ]
  },
  {
   "cell_type": "code",
   "execution_count": 109,
   "id": "aae22a47-9590-479f-bf40-950982f1fad9",
   "metadata": {},
   "outputs": [
    {
     "data": {
      "text/plain": [
       "tensor(0.4390, grad_fn=<NllLossBackward0>)"
      ]
     },
     "execution_count": 109,
     "metadata": {},
     "output_type": "execute_result"
    }
   ],
   "source": [
    "emb = C[Xdev] # (32, 3, 2)\n",
    "h = torch.tanh(emb.view(-1, feeded) @ W1 + b1) # (32, 100)\n",
    "logits = h @ W2 + b2 # (32, 27)\n",
    "loss = F.cross_entropy(logits, Ydev)\n",
    "loss"
   ]
  },
  {
   "cell_type": "code",
   "execution_count": 111,
   "id": "4a908409-112d-4054-942e-3330bb04631c",
   "metadata": {},
   "outputs": [
    {
     "data": {
      "text/plain": [
       "[<matplotlib.lines.Line2D at 0x184c37f2550>]"
      ]
     },
     "execution_count": 111,
     "metadata": {},
     "output_type": "execute_result"
    },
    {
     "data": {
      "image/png": "[encoded data removed]",
      "text/plain": [
       "<Figure size 640x480 with 1 Axes>"
      ]
     },
     "metadata": {},
     "output_type": "display_data"
    }
   ],
   "source": [
    "plt.plot(stepi, lossi)"
   ]
  },
  {
   "cell_type": "markdown",
   "id": "2e30a9b7-59be-4ef1-ab55-6ecd32f3f0eb",
   "metadata": {},
   "source": [
    "#### Embedding locations for our characters!\n"
   ]
  },
  {
   "cell_type": "code",
   "execution_count": 110,
   "id": "4d9c7895-cb5d-4a6c-ba04-45c59a4a1125",
   "metadata": {},
   "outputs": [
    {
     "data": {
      "image/png": "[encoded data removed]",
      "text/plain": [
       "<Figure size 800x800 with 1 Axes>"
      ]
     },
     "metadata": {},
     "output_type": "display_data"
    }
   ],
   "source": [
    "# visualize dimensions 0 and 1 of the embedding matrix C for all characters\n",
    "plt.figure(figsize=(8,8))\n",
    "plt.scatter(C[:,0].data, C[:,1].data, s=200) #X-coord and Y-coord which are the columns of C\n",
    "for i in range(C.shape[0]):\n",
    "    plt.text(C[i,0].item(), C[i,1].item(), itos[i], ha=\"center\", va=\"center\", color='white') #Include text of the char\n",
    "plt.grid('minor')\n",
    "\n",
    "# For example, you may see all your vowels clustered together, so your model may see them as interchangeable\n",
    "# Above is true when only 2 dimensional! If you change embed to 10, we cannot visualize that shit"
   ]
  },
  {
   "cell_type": "markdown",
   "id": "3fb4b8b3-1c86-4107-a0d4-518f7f97f9e9",
   "metadata": {},
   "source": [
    "### Sampling from our model"
   ]
  },
  {
   "cell_type": "code",
   "execution_count": 112,
   "id": "bbea8f8a-ceea-454a-b3de-9c95e8c17f1c",
   "metadata": {},
   "outputs": [
    {
     "name": "stdout",
     "output_type": "stream",
     "text": [
      "dra.\n",
      "flameguard.\n",
      "eclipsehawk.\n",
      "specterraven.\n",
      "crystalphon.\n",
      "ephon.\n",
      "sylvanserpent.\n",
      "flamesphinx.\n",
      "nightshade hydra.\n",
      "flamewraith.\n",
      "nebulagriffin.\n",
      "sylvanminara.\n",
      "flameguard.\n",
      "stormserpent.\n",
      "quicksilverfenrir.\n",
      "vortexwraith.\n",
      "crystal leviathan.\n",
      "specterwraith.\n",
      "flameguard.\n",
      "dra.\n"
     ]
    }
   ],
   "source": [
    "# sample from the model\n",
    "g = torch.Generator().manual_seed(2147483647 + 10)\n",
    "\n",
    "for _ in range(20):\n",
    "    \n",
    "    out = []\n",
    "    context = [0] * block_size # initialize with all ...\n",
    "    while True:\n",
    "      emb = C[torch.tensor([context])] # (1,block_size,d)\n",
    "      h = torch.tanh(emb.view(1, -1) @ W1 + b1)\n",
    "      logits = h @ W2 + b2\n",
    "      probs = F.softmax(logits, dim=1)\n",
    "      ix = torch.multinomial(probs, num_samples=1, generator=g).item()\n",
    "      context = context[1:] + [ix]\n",
    "      out.append(ix)\n",
    "      if ix == 0:\n",
    "        break\n",
    "    \n",
    "    print(''.join(itos[i] for i in out))"
   ]
  },
  {
   "cell_type": "code",
   "execution_count": null,
   "id": "24e4d03b-712b-4f61-b546-56621cc0b4b4",
   "metadata": {},
   "outputs": [],
   "source": []
  }
 ],
 "metadata": {
  "kernelspec": {
   "display_name": "Python 3 (ipykernel)",
   "language": "python",
   "name": "python3"
  },
  "language_info": {
   "codemirror_mode": {
    "name": "ipython",
    "version": 3
   },
   "file_extension": ".py",
   "mimetype": "text/x-python",
   "name": "python",
   "nbconvert_exporter": "python",
   "pygments_lexer": "ipython3",
   "version": "3.11.7"
  }
 },
 "nbformat": 4,
 "nbformat_minor": 5
}
