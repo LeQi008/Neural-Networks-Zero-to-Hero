{
 "cells": [
  {
   "cell_type": "markdown",
   "id": "33b845f2-ba43-49ba-b925-fd8478b6e6a4",
   "metadata": {},
   "source": [
    "# Makemore Bigram\n",
    "## Exploration of mythical creature names"
   ]
  },
  {
   "cell_type": "code",
   "execution_count": 134,
   "id": "5ab49ae3-a209-46ba-8314-c7d41ccdd6e8",
   "metadata": {},
   "outputs": [],
   "source": [
    "words = open('mythical.txt','r').read().splitlines()"
   ]
  },
  {
   "cell_type": "code",
   "execution_count": 135,
   "id": "a251ac02-e74d-4705-aeb6-e4c396e06722",
   "metadata": {},
   "outputs": [
    {
     "data": {
      "text/plain": [
       "['frostwyrm',\n",
       " 'emberdrake',\n",
       " 'thundergriffin',\n",
       " 'shadowfenrir',\n",
       " 'luminara serpent',\n",
       " 'crystalbeast',\n",
       " 'nebula phoenix',\n",
       " 'specterwolf',\n",
       " 'stormraven',\n",
       " 'drakonguard']"
      ]
     },
     "execution_count": 135,
     "metadata": {},
     "output_type": "execute_result"
    }
   ],
   "source": [
    "words[:10]"
   ]
  },
  {
   "cell_type": "code",
   "execution_count": 136,
   "id": "7341ef7f-7cd3-4619-8dc5-7115328b6ad1",
   "metadata": {},
   "outputs": [
    {
     "data": {
      "text/plain": [
       "397"
      ]
     },
     "execution_count": 136,
     "metadata": {},
     "output_type": "execute_result"
    }
   ],
   "source": [
    "len(words)\n"
   ]
  },
  {
   "cell_type": "code",
   "execution_count": 137,
   "id": "e498cfb3-ba0e-4e78-98e9-e841920d6506",
   "metadata": {},
   "outputs": [
    {
     "data": {
      "text/plain": [
       "8"
      ]
     },
     "execution_count": 137,
     "metadata": {},
     "output_type": "execute_result"
    }
   ],
   "source": [
    "min(len(w) for w in words)"
   ]
  },
  {
   "cell_type": "code",
   "execution_count": 138,
   "id": "ce9e492e-462c-4764-9b9e-4f891dcf28eb",
   "metadata": {},
   "outputs": [
    {
     "data": {
      "text/plain": [
       "20"
      ]
     },
     "execution_count": 138,
     "metadata": {},
     "output_type": "execute_result"
    }
   ],
   "source": [
    "max(len(w) for w in words)"
   ]
  },
  {
   "cell_type": "code",
   "execution_count": 139,
   "id": "7c85ff61-c1a3-40ef-9d9e-536d29f39f93",
   "metadata": {},
   "outputs": [
    {
     "data": {
      "text/plain": [
       "{('<S>', 'f'): 40,\n",
       " ('f', 'r'): 20,\n",
       " ('r', 'o'): 20,\n",
       " ('o', 's'): 20,\n",
       " ('s', 't'): 88,\n",
       " ('t', 'w'): 1,\n",
       " ('w', 'y'): 1,\n",
       " ('y', 'r'): 1,\n",
       " ('r', 'm'): 33,\n",
       " ('m', '<E>'): 1,\n",
       " ('<S>', 'e'): 39,\n",
       " ('e', 'm'): 20,\n",
       " ('m', 'b'): 20,\n",
       " ('b', 'e'): 28,\n",
       " ('e', 'r'): 157,\n",
       " ('r', 'd'): 27,\n",
       " ('d', 'r'): 55,\n",
       " ('r', 'a'): 154,\n",
       " ('a', 'k'): 29,\n",
       " ('k', 'e'): 9,\n",
       " ('e', '<E>'): 10,\n",
       " ('<S>', 't'): 39,\n",
       " ('t', 'h'): 65,\n",
       " ('h', 'u'): 20,\n",
       " ('u', 'n'): 20,\n",
       " ('n', 'd'): 27,\n",
       " ('d', 'e'): 40,\n",
       " ('r', 'g'): 14,\n",
       " ('g', 'r'): 46,\n",
       " ('r', 'i'): 60,\n",
       " ('i', 'f'): 33,\n",
       " ('f', 'f'): 33,\n",
       " ('f', 'i'): 27,\n",
       " ('i', 'n'): 93,\n",
       " ('n', '<E>'): 85,\n",
       " ('<S>', 's'): 80,\n",
       " ('s', 'h'): 40,\n",
       " ('h', 'a'): 78,\n",
       " ('a', 'd'): 40,\n",
       " ('d', 'o'): 20,\n",
       " ('o', 'w'): 20,\n",
       " ('w', 'f'): 1,\n",
       " ('f', 'e'): 27,\n",
       " ('e', 'n'): 93,\n",
       " ('n', 'r'): 27,\n",
       " ('i', 'r'): 27,\n",
       " ('r', '<E>'): 53,\n",
       " ('<S>', 'l'): 20,\n",
       " ('l', 'u'): 20,\n",
       " ('u', 'm'): 20,\n",
       " ('m', 'i'): 46,\n",
       " ('n', 'a'): 20,\n",
       " ('a', 'r'): 47,\n",
       " ('a', ' '): 21,\n",
       " (' ', 's'): 2,\n",
       " ('s', 'e'): 45,\n",
       " ('r', 'p'): 26,\n",
       " ('p', 'e'): 46,\n",
       " ('n', 't'): 26,\n",
       " ('t', '<E>'): 34,\n",
       " ('<S>', 'c'): 20,\n",
       " ('c', 'r'): 20,\n",
       " ('r', 'y'): 39,\n",
       " ('y', 's'): 20,\n",
       " ('t', 'a'): 46,\n",
       " ('a', 'l'): 59,\n",
       " ('l', 'b'): 13,\n",
       " ('e', 'a'): 8,\n",
       " ('a', 's'): 54,\n",
       " ('<S>', 'n'): 40,\n",
       " ('n', 'e'): 20,\n",
       " ('e', 'b'): 20,\n",
       " ('b', 'u'): 20,\n",
       " ('u', 'l'): 20,\n",
       " ('l', 'a'): 40,\n",
       " (' ', 'p'): 1,\n",
       " ('p', 'h'): 65,\n",
       " ('h', 'o'): 45,\n",
       " ('o', 'e'): 26,\n",
       " ('n', 'i'): 46,\n",
       " ('i', 'x'): 26,\n",
       " ('x', '<E>'): 46,\n",
       " ('s', 'p'): 40,\n",
       " ('e', 'c'): 39,\n",
       " ('c', 't'): 20,\n",
       " ('t', 'e'): 40,\n",
       " ('r', 'w'): 31,\n",
       " ('w', 'o'): 26,\n",
       " ('o', 'l'): 26,\n",
       " ('l', 'f'): 26,\n",
       " ('f', '<E>'): 26,\n",
       " ('t', 'o'): 20,\n",
       " ('o', 'r'): 40,\n",
       " ('m', 'r'): 1,\n",
       " ('a', 'v'): 14,\n",
       " ('v', 'e'): 34,\n",
       " ('<S>', 'd'): 20,\n",
       " ('k', 'o'): 20,\n",
       " ('o', 'n'): 45,\n",
       " ('n', 'g'): 13,\n",
       " ('g', 'u'): 26,\n",
       " ('u', 'a'): 26,\n",
       " ('d', '<E>'): 26,\n",
       " ('i', 'g'): 20,\n",
       " ('g', 'h'): 20,\n",
       " ('h', 't'): 20,\n",
       " ('t', 's'): 20,\n",
       " ('e', ' '): 15,\n",
       " (' ', 'c'): 1,\n",
       " ('c', 'h'): 19,\n",
       " ('h', 'i'): 39,\n",
       " ('i', 'm'): 39,\n",
       " ('m', 'e'): 59,\n",
       " ('a', '<E>'): 45,\n",
       " ('<S>', 'g'): 20,\n",
       " ('g', 'l'): 20,\n",
       " ('l', 'i'): 65,\n",
       " ('m', 'm'): 20,\n",
       " ('r', 'h'): 1,\n",
       " ('a', 'w'): 32,\n",
       " ('w', 'k'): 19,\n",
       " ('k', '<E>'): 45,\n",
       " ('<S>', 'v'): 39,\n",
       " ('v', 'o'): 39,\n",
       " ('r', 't'): 20,\n",
       " ('e', 'x'): 20,\n",
       " ('x', ' '): 1,\n",
       " (' ', 'h'): 14,\n",
       " ('h', 'y'): 26,\n",
       " ('y', 'd'): 26,\n",
       " ('s', 'y'): 20,\n",
       " ('y', 'l'): 20,\n",
       " ('l', 'v'): 40,\n",
       " ('v', 'a'): 20,\n",
       " ('a', 'n'): 39,\n",
       " ('n', 'b'): 1,\n",
       " ('b', 'a'): 26,\n",
       " ('s', 'i'): 46,\n",
       " ('i', 'l'): 46,\n",
       " ('i', 's'): 26,\n",
       " ('s', 'k'): 26,\n",
       " ('f', 'l'): 20,\n",
       " ('a', 'm'): 20,\n",
       " ('e', 'w'): 1,\n",
       " ('w', 'r'): 26,\n",
       " ('a', 'i'): 26,\n",
       " ('i', 't'): 26,\n",
       " ('h', '<E>'): 26,\n",
       " ('<S>', 'a'): 20,\n",
       " ('t', 'r'): 20,\n",
       " ('l', 'm'): 1,\n",
       " ('n', 'o'): 26,\n",
       " ('o', 't'): 26,\n",
       " ('a', 'u'): 26,\n",
       " ('u', 'r'): 26,\n",
       " ('<S>', 'q'): 20,\n",
       " ('q', 'u'): 20,\n",
       " ('u', 'i'): 20,\n",
       " ('i', 'c'): 20,\n",
       " ('c', 'k'): 20,\n",
       " ('k', 's'): 20,\n",
       " ('r', ' '): 1,\n",
       " ('n', 'x'): 20,\n",
       " ('o', 'i'): 19,\n",
       " ('i', 'd'): 38,\n",
       " ('d', 'm'): 7,\n",
       " ('m', 'a'): 1,\n",
       " ('r', 'e'): 1,\n",
       " ('c', 'l'): 19,\n",
       " ('i', 'p'): 19,\n",
       " ('p', 's'): 19,\n",
       " (' ', 'g'): 7,\n",
       " ('y', 'p'): 19,\n",
       " ('t', 'i'): 19,\n",
       " ('d', 'a'): 19,\n",
       " ('l', ' '): 7,\n",
       " (' ', 'l'): 19,\n",
       " ('l', 'e'): 19,\n",
       " ('e', 'v'): 19,\n",
       " ('v', 'i'): 19,\n",
       " ('i', 'a'): 19,\n",
       " ('a', 't'): 19,\n",
       " ('t', 'd'): 1,\n",
       " ('r', 'f'): 20,\n",
       " ('w', 's'): 13,\n",
       " (' ', 'b'): 7,\n",
       " ('l', 'p'): 13,\n",
       " ('r', 'r'): 7,\n",
       " ('m', 'g'): 7,\n",
       " ('r', 'b'): 7,\n",
       " ('x', 'w'): 7,\n",
       " ('n', 'm'): 7,\n",
       " ('e', 's'): 7,\n",
       " ('l', 'g'): 19,\n",
       " ('d', 's'): 6,\n",
       " ('t', 'p'): 6,\n",
       " ('r', 'c'): 6,\n",
       " ('w', 'h'): 6,\n",
       " ('m', 's'): 12,\n",
       " ('x', 'f'): 6,\n",
       " ('n', 's'): 6,\n",
       " ('e', 'g'): 6,\n",
       " ('d', 'c'): 6,\n",
       " ('e', 'h'): 12,\n",
       " ('l', 'h'): 6,\n",
       " ('t', 'b'): 6,\n",
       " ('a', 'g'): 6,\n",
       " ('e', 'p'): 6,\n",
       " ('x', 'c'): 6,\n",
       " ('n', 'h'): 6,\n",
       " ('f', 'o'): 6,\n",
       " ('t', ' '): 6}"
      ]
     },
     "execution_count": 139,
     "metadata": {},
     "output_type": "execute_result"
    }
   ],
   "source": [
    "#tuple to map characters and their proceeding character and record counts of appearences\n",
    "b={}\n",
    "\n",
    "for w in words:\n",
    "    chs =  ['<S>'] + list(w) + ['<E>']\n",
    "    for ch1,ch2 in zip(chs, chs[1:]):\n",
    "        bigram = (ch1,ch2)\n",
    "        #Add 1 to count for appearence of tuple. If tuple not inside, return 0 + 1\n",
    "        b[bigram] = b.get(bigram, 0) + 1\n",
    "        #print(ch1,ch2)\n",
    "\n",
    "b"
   ]
  },
  {
   "cell_type": "code",
   "execution_count": 140,
   "id": "1a503718-969f-4c51-97b7-3ad25e41176f",
   "metadata": {},
   "outputs": [
    {
     "data": {
      "text/plain": [
       "[(('e', 'r'), 157),\n",
       " (('r', 'a'), 154),\n",
       " (('i', 'n'), 93),\n",
       " (('e', 'n'), 93),\n",
       " (('s', 't'), 88),\n",
       " (('n', '<E>'), 85),\n",
       " (('<S>', 's'), 80),\n",
       " (('h', 'a'), 78),\n",
       " (('t', 'h'), 65),\n",
       " (('p', 'h'), 65),\n",
       " (('l', 'i'), 65),\n",
       " (('r', 'i'), 60),\n",
       " (('a', 'l'), 59),\n",
       " (('m', 'e'), 59),\n",
       " (('d', 'r'), 55),\n",
       " (('a', 's'), 54),\n",
       " (('r', '<E>'), 53),\n",
       " (('a', 'r'), 47),\n",
       " (('g', 'r'), 46),\n",
       " (('m', 'i'), 46),\n",
       " (('p', 'e'), 46),\n",
       " (('t', 'a'), 46),\n",
       " (('n', 'i'), 46),\n",
       " (('x', '<E>'), 46),\n",
       " (('s', 'i'), 46),\n",
       " (('i', 'l'), 46),\n",
       " (('s', 'e'), 45),\n",
       " (('h', 'o'), 45),\n",
       " (('o', 'n'), 45),\n",
       " (('a', '<E>'), 45),\n",
       " (('k', '<E>'), 45),\n",
       " (('<S>', 'f'), 40),\n",
       " (('d', 'e'), 40),\n",
       " (('s', 'h'), 40),\n",
       " (('a', 'd'), 40),\n",
       " (('<S>', 'n'), 40),\n",
       " (('l', 'a'), 40),\n",
       " (('s', 'p'), 40),\n",
       " (('t', 'e'), 40),\n",
       " (('o', 'r'), 40),\n",
       " (('l', 'v'), 40),\n",
       " (('<S>', 'e'), 39),\n",
       " (('<S>', 't'), 39),\n",
       " (('r', 'y'), 39),\n",
       " (('e', 'c'), 39),\n",
       " (('h', 'i'), 39),\n",
       " (('i', 'm'), 39),\n",
       " (('<S>', 'v'), 39),\n",
       " (('v', 'o'), 39),\n",
       " (('a', 'n'), 39),\n",
       " (('i', 'd'), 38),\n",
       " (('t', '<E>'), 34),\n",
       " (('v', 'e'), 34),\n",
       " (('r', 'm'), 33),\n",
       " (('i', 'f'), 33),\n",
       " (('f', 'f'), 33),\n",
       " (('a', 'w'), 32),\n",
       " (('r', 'w'), 31),\n",
       " (('a', 'k'), 29),\n",
       " (('b', 'e'), 28),\n",
       " (('r', 'd'), 27),\n",
       " (('n', 'd'), 27),\n",
       " (('f', 'i'), 27),\n",
       " (('f', 'e'), 27),\n",
       " (('n', 'r'), 27),\n",
       " (('i', 'r'), 27),\n",
       " (('r', 'p'), 26),\n",
       " (('n', 't'), 26),\n",
       " (('o', 'e'), 26),\n",
       " (('i', 'x'), 26),\n",
       " (('w', 'o'), 26),\n",
       " (('o', 'l'), 26),\n",
       " (('l', 'f'), 26),\n",
       " (('f', '<E>'), 26),\n",
       " (('g', 'u'), 26),\n",
       " (('u', 'a'), 26),\n",
       " (('d', '<E>'), 26),\n",
       " (('h', 'y'), 26),\n",
       " (('y', 'd'), 26),\n",
       " (('b', 'a'), 26),\n",
       " (('i', 's'), 26),\n",
       " (('s', 'k'), 26),\n",
       " (('w', 'r'), 26),\n",
       " (('a', 'i'), 26),\n",
       " (('i', 't'), 26),\n",
       " (('h', '<E>'), 26),\n",
       " (('n', 'o'), 26),\n",
       " (('o', 't'), 26),\n",
       " (('a', 'u'), 26),\n",
       " (('u', 'r'), 26),\n",
       " (('a', ' '), 21),\n",
       " (('f', 'r'), 20),\n",
       " (('r', 'o'), 20),\n",
       " (('o', 's'), 20),\n",
       " (('e', 'm'), 20),\n",
       " (('m', 'b'), 20),\n",
       " (('h', 'u'), 20),\n",
       " (('u', 'n'), 20),\n",
       " (('d', 'o'), 20),\n",
       " (('o', 'w'), 20),\n",
       " (('<S>', 'l'), 20),\n",
       " (('l', 'u'), 20),\n",
       " (('u', 'm'), 20),\n",
       " (('n', 'a'), 20),\n",
       " (('<S>', 'c'), 20),\n",
       " (('c', 'r'), 20),\n",
       " (('y', 's'), 20),\n",
       " (('n', 'e'), 20),\n",
       " (('e', 'b'), 20),\n",
       " (('b', 'u'), 20),\n",
       " (('u', 'l'), 20),\n",
       " (('c', 't'), 20),\n",
       " (('t', 'o'), 20),\n",
       " (('<S>', 'd'), 20),\n",
       " (('k', 'o'), 20),\n",
       " (('i', 'g'), 20),\n",
       " (('g', 'h'), 20),\n",
       " (('h', 't'), 20),\n",
       " (('t', 's'), 20),\n",
       " (('<S>', 'g'), 20),\n",
       " (('g', 'l'), 20),\n",
       " (('m', 'm'), 20),\n",
       " (('r', 't'), 20),\n",
       " (('e', 'x'), 20),\n",
       " (('s', 'y'), 20),\n",
       " (('y', 'l'), 20),\n",
       " (('v', 'a'), 20),\n",
       " (('f', 'l'), 20),\n",
       " (('a', 'm'), 20),\n",
       " (('<S>', 'a'), 20),\n",
       " (('t', 'r'), 20),\n",
       " (('<S>', 'q'), 20),\n",
       " (('q', 'u'), 20),\n",
       " (('u', 'i'), 20),\n",
       " (('i', 'c'), 20),\n",
       " (('c', 'k'), 20),\n",
       " (('k', 's'), 20),\n",
       " (('n', 'x'), 20),\n",
       " (('r', 'f'), 20),\n",
       " (('c', 'h'), 19),\n",
       " (('w', 'k'), 19),\n",
       " (('o', 'i'), 19),\n",
       " (('c', 'l'), 19),\n",
       " (('i', 'p'), 19),\n",
       " (('p', 's'), 19),\n",
       " (('y', 'p'), 19),\n",
       " (('t', 'i'), 19),\n",
       " (('d', 'a'), 19),\n",
       " ((' ', 'l'), 19),\n",
       " (('l', 'e'), 19),\n",
       " (('e', 'v'), 19),\n",
       " (('v', 'i'), 19),\n",
       " (('i', 'a'), 19),\n",
       " (('a', 't'), 19),\n",
       " (('l', 'g'), 19),\n",
       " (('e', ' '), 15),\n",
       " (('r', 'g'), 14),\n",
       " (('a', 'v'), 14),\n",
       " ((' ', 'h'), 14),\n",
       " (('l', 'b'), 13),\n",
       " (('n', 'g'), 13),\n",
       " (('w', 's'), 13),\n",
       " (('l', 'p'), 13),\n",
       " (('m', 's'), 12),\n",
       " (('e', 'h'), 12),\n",
       " (('e', '<E>'), 10),\n",
       " (('k', 'e'), 9),\n",
       " (('e', 'a'), 8),\n",
       " (('d', 'm'), 7),\n",
       " ((' ', 'g'), 7),\n",
       " (('l', ' '), 7),\n",
       " ((' ', 'b'), 7),\n",
       " (('r', 'r'), 7),\n",
       " (('m', 'g'), 7),\n",
       " (('r', 'b'), 7),\n",
       " (('x', 'w'), 7),\n",
       " (('n', 'm'), 7),\n",
       " (('e', 's'), 7),\n",
       " (('d', 's'), 6),\n",
       " (('t', 'p'), 6),\n",
       " (('r', 'c'), 6),\n",
       " (('w', 'h'), 6),\n",
       " (('x', 'f'), 6),\n",
       " (('n', 's'), 6),\n",
       " (('e', 'g'), 6),\n",
       " (('d', 'c'), 6),\n",
       " (('l', 'h'), 6),\n",
       " (('t', 'b'), 6),\n",
       " (('a', 'g'), 6),\n",
       " (('e', 'p'), 6),\n",
       " (('x', 'c'), 6),\n",
       " (('n', 'h'), 6),\n",
       " (('f', 'o'), 6),\n",
       " (('t', ' '), 6),\n",
       " ((' ', 's'), 2),\n",
       " (('t', 'w'), 1),\n",
       " (('w', 'y'), 1),\n",
       " (('y', 'r'), 1),\n",
       " (('m', '<E>'), 1),\n",
       " (('w', 'f'), 1),\n",
       " ((' ', 'p'), 1),\n",
       " (('m', 'r'), 1),\n",
       " ((' ', 'c'), 1),\n",
       " (('r', 'h'), 1),\n",
       " (('x', ' '), 1),\n",
       " (('n', 'b'), 1),\n",
       " (('e', 'w'), 1),\n",
       " (('l', 'm'), 1),\n",
       " (('r', ' '), 1),\n",
       " (('m', 'a'), 1),\n",
       " (('r', 'e'), 1),\n",
       " (('t', 'd'), 1)]"
      ]
     },
     "execution_count": 140,
     "metadata": {},
     "output_type": "execute_result"
    }
   ],
   "source": [
    "#sort by second element which is the count #add - for descending\n",
    "sorted(b.items(), key = lambda keyValue: -keyValue[1])"
   ]
  },
  {
   "cell_type": "code",
   "execution_count": 141,
   "id": "91c630e5-d6f0-4d45-a9d2-f5f3fe9ba432",
   "metadata": {},
   "outputs": [],
   "source": [
    "import torch"
   ]
  },
  {
   "cell_type": "code",
   "execution_count": 142,
   "id": "0861d730-f9cc-4f01-811f-ab0a46368001",
   "metadata": {},
   "outputs": [],
   "source": [
    "#Creating array\n",
    "N = torch.zeros((26,26), dtype=torch.int32)"
   ]
  },
  {
   "cell_type": "markdown",
   "id": "7574ceb5-b374-4342-a1ee-ed1a17ca5c61",
   "metadata": {},
   "source": [
    "### Mapping"
   ]
  },
  {
   "cell_type": "code",
   "execution_count": 143,
   "id": "e8f7f303-c18b-47f0-8675-bbfb2bf79b0a",
   "metadata": {},
   "outputs": [
    {
     "data": {
      "text/plain": [
       "{' ': 1,\n",
       " 'a': 2,\n",
       " 'b': 3,\n",
       " 'c': 4,\n",
       " 'd': 5,\n",
       " 'e': 6,\n",
       " 'f': 7,\n",
       " 'g': 8,\n",
       " 'h': 9,\n",
       " 'i': 10,\n",
       " 'k': 11,\n",
       " 'l': 12,\n",
       " 'm': 13,\n",
       " 'n': 14,\n",
       " 'o': 15,\n",
       " 'p': 16,\n",
       " 'q': 17,\n",
       " 'r': 18,\n",
       " 's': 19,\n",
       " 't': 20,\n",
       " 'u': 21,\n",
       " 'v': 22,\n",
       " 'w': 23,\n",
       " 'x': 24,\n",
       " 'y': 25,\n",
       " '.': 0}"
      ]
     },
     "execution_count": 143,
     "metadata": {},
     "output_type": "execute_result"
    }
   ],
   "source": [
    "#Changing strings to be indexed from characters to integers\n",
    "#join concatenates all strings into a massive string\n",
    "chars = sorted(list(set(''.join(words))))\n",
    "\n",
    "#maps char to int\n",
    "stoi = { s:i+1 for i,s in enumerate(chars)}\n",
    "stoi['.'] = 0\n",
    "stoi"
   ]
  },
  {
   "cell_type": "code",
   "execution_count": 144,
   "id": "d62420c4-b4d1-43a7-a6af-645fe5fc314f",
   "metadata": {},
   "outputs": [
    {
     "data": {
      "text/plain": [
       "{1: ' ',\n",
       " 2: 'a',\n",
       " 3: 'b',\n",
       " 4: 'c',\n",
       " 5: 'd',\n",
       " 6: 'e',\n",
       " 7: 'f',\n",
       " 8: 'g',\n",
       " 9: 'h',\n",
       " 10: 'i',\n",
       " 11: 'k',\n",
       " 12: 'l',\n",
       " 13: 'm',\n",
       " 14: 'n',\n",
       " 15: 'o',\n",
       " 16: 'p',\n",
       " 17: 'q',\n",
       " 18: 'r',\n",
       " 19: 's',\n",
       " 20: 't',\n",
       " 21: 'u',\n",
       " 22: 'v',\n",
       " 23: 'w',\n",
       " 24: 'x',\n",
       " 25: 'y',\n",
       " 0: '.'}"
      ]
     },
     "execution_count": 144,
     "metadata": {},
     "output_type": "execute_result"
    }
   ],
   "source": [
    "# i to s\n",
    "itos = {i:s for s,i in stoi.items()}\n",
    "\n",
    "itos"
   ]
  },
  {
   "cell_type": "code",
   "execution_count": 145,
   "id": "3fd44c50-e7b2-4d26-9fc7-03c871a48c9d",
   "metadata": {},
   "outputs": [],
   "source": [
    "for w in words:\n",
    "    chs =  ['.'] + list(w) + ['.']\n",
    "    for ch1,ch2 in zip(chs, chs[1:]):\n",
    "        #Find char's corresponding int \n",
    "        ix1 = stoi[ch1]\n",
    "        ix2 = stoi[ch2]\n",
    "        N[ix1,ix2] +=1"
   ]
  },
  {
   "cell_type": "code",
   "execution_count": 146,
   "id": "aaa8b7d7-78d6-4ed9-a1c9-aea0090c5504",
   "metadata": {},
   "outputs": [
    {
     "data": {
      "image/png": "[encoded data removed]",
      "text/plain": [
       "<Figure size 1600x1600 with 1 Axes>"
      ]
     },
     "metadata": {},
     "output_type": "display_data"
    }
   ],
   "source": [
    "import matplotlib.pyplot as plt\n",
    "%matplotlib inline\n",
    "\n",
    "#OpenMP library to relax its default behavior and tolerate multiple instances. \n",
    "#This resolves the conflict between PyTorch and Matplotlib,\n",
    "import os    \n",
    "os.environ['KMP_DUPLICATE_LIB_OK'] = 'True'\n",
    "\n",
    "plt.figure(figsize=(16,16))\n",
    "plt.imshow(N, cmap='Blues')\n",
    "\n",
    "for i in range(26):\n",
    "    for j in range(26):\n",
    "        chstr = itos[i] + itos[j]\n",
    "        plt.text(j, i, chstr, ha=\"center\", va=\"bottom\", color='gray')\n",
    "        plt.text(j, i, N[i, j].item(), ha=\"center\", va=\"top\", color='gray')\n",
    "plt.axis('off');"
   ]
  },
  {
   "cell_type": "markdown",
   "id": "4938e625-fb93-4cb1-b9b5-a328405e0959",
   "metadata": {},
   "source": [
    "### Finding probabilities"
   ]
  },
  {
   "cell_type": "code",
   "execution_count": 147,
   "id": "d133a63e-da30-4338-ac83-4c16bec80aca",
   "metadata": {},
   "outputs": [
    {
     "data": {
      "text/plain": [
       "tensor([ 0,  0, 20,  0, 20, 20, 39, 40, 20,  0,  0,  0, 20,  0, 40,  0,  0, 20,\n",
       "         0, 80, 39,  0, 39,  0,  0,  0], dtype=torch.int32)"
      ]
     },
     "execution_count": 147,
     "metadata": {},
     "output_type": "execute_result"
    }
   ],
   "source": [
    "#0th row, and all columns\n",
    "N[0, :]\n",
    "# or N[0] works fine too"
   ]
  },
  {
   "cell_type": "code",
   "execution_count": 148,
   "id": "93012ee2-a249-41ee-a817-5ee6f64513e7",
   "metadata": {},
   "outputs": [
    {
     "data": {
      "text/plain": [
       "tensor([0.0000, 0.0000, 0.0504, 0.0000, 0.0504, 0.0504, 0.0982, 0.1008, 0.0504,\n",
       "        0.0000, 0.0000, 0.0000, 0.0504, 0.0000, 0.1008, 0.0000, 0.0000, 0.0504,\n",
       "        0.0000, 0.2015, 0.0982, 0.0000, 0.0982, 0.0000, 0.0000, 0.0000])"
      ]
     },
     "execution_count": 148,
     "metadata": {},
     "output_type": "execute_result"
    }
   ],
   "source": [
    "p = N[0].float()\n",
    "p = p / p.sum() #Normalizing probabilities so they sum to 1\n",
    "p"
   ]
  },
  {
   "cell_type": "markdown",
   "id": "aaa624a6-6535-4724-81a3-8ead897acfcb",
   "metadata": {},
   "source": [
    "### Using Torch.multinomial"
   ]
  },
  {
   "cell_type": "code",
   "execution_count": 149,
   "id": "3686b4ba-eecc-4012-84a9-37972a36ca6f",
   "metadata": {},
   "outputs": [
    {
     "data": {
      "text/plain": [
       "'v'"
      ]
     },
     "execution_count": 149,
     "metadata": {},
     "output_type": "execute_result"
    }
   ],
   "source": [
    "g = torch.Generator().manual_seed(2147483647)\n",
    "ix = torch.multinomial(p, num_samples=1, replacement=True, generator = g).item()\n",
    "itos[ix]"
   ]
  },
  {
   "cell_type": "markdown",
   "id": "7c63d0f0-9df3-4303-b68f-8374b6172a99",
   "metadata": {},
   "source": [
    "#### Example of torch.multinomial ------------"
   ]
  },
  {
   "cell_type": "code",
   "execution_count": 150,
   "id": "b9d3bdb7-c12e-49af-bca1-755462131419",
   "metadata": {},
   "outputs": [
    {
     "data": {
      "text/plain": [
       "tensor([0.6064, 0.3033, 0.0903])"
      ]
     },
     "execution_count": 150,
     "metadata": {},
     "output_type": "execute_result"
    }
   ],
   "source": [
    "#Give them a probability distribution and they will sample.\n",
    "#Create generator object 3, pass g to rand function\n",
    "g = torch.Generator().manual_seed(2147483647)\n",
    "p = torch.rand(3, generator=g)\n",
    "p = p / p.sum()\n",
    "p"
   ]
  },
  {
   "cell_type": "code",
   "execution_count": 151,
   "id": "df575174-dbe5-42f8-97fe-3bc48a40bed4",
   "metadata": {},
   "outputs": [
    {
     "data": {
      "text/plain": [
       "tensor([1, 1, 2, 0, 0, 2, 1, 1, 0, 0, 0, 1, 1, 0, 0, 1, 1, 0, 0, 1, 0, 2, 0, 0,\n",
       "        1, 0, 0, 1, 0, 0, 0, 1, 1, 1, 0, 1, 1, 0, 0, 1, 1, 1, 0, 1, 1, 0, 1, 1,\n",
       "        0, 2, 0, 0, 0, 0, 0, 0, 0, 0, 0, 0, 1, 1, 0, 0, 0, 0, 0, 0, 0, 0, 1, 0,\n",
       "        0, 1, 0, 0, 0, 0, 0, 0, 0, 1, 2, 0, 0, 0, 0, 0, 0, 1, 0, 0, 2, 0, 1, 0,\n",
       "        0, 1, 1, 1])"
      ]
     },
     "execution_count": 151,
     "metadata": {},
     "output_type": "execute_result"
    }
   ],
   "source": [
    "# ^^^ 60% for 0, 30% for 1, 9% for 2\n",
    "torch.multinomial(p, num_samples=100, replacement=True, generator = g)"
   ]
  },
  {
   "cell_type": "markdown",
   "id": "bb65a5a9-fa56-4234-aa40-641a734bd1e4",
   "metadata": {},
   "source": [
    "#### End of Example ---------------"
   ]
  },
  {
   "cell_type": "markdown",
   "id": "f6d67e52-4169-4d7b-89c1-f8887d1a61d4",
   "metadata": {},
   "source": [
    "### Preparing Normalized Probabilities"
   ]
  },
  {
   "cell_type": "code",
   "execution_count": 152,
   "id": "ba09726b-3613-477c-ae19-cd0a4a08de7e",
   "metadata": {},
   "outputs": [
    {
     "data": {
      "text/plain": [
       "tensor(1.0000)"
      ]
     },
     "execution_count": 152,
     "metadata": {},
     "output_type": "execute_result"
    }
   ],
   "source": [
    "# https://pytorch.org/docs/stable/generated/torch.sum.html\n",
    "# Broadcasting semantics : whether 2 arrays can be combined in a binary operation\n",
    "# P.sum(1, keepdim=True).shape\n",
    "# 26, 26\n",
    "# 26 , 1 \n",
    "#Broadcastable!\n",
    "P = (N+1).float()\n",
    "P /= P.sum(1, keepdim=True)\n",
    "P[0].sum() #Check if it has been normalized"
   ]
  },
  {
   "cell_type": "markdown",
   "id": "12634ac6-696b-4a8e-9b1a-6aec5612c8aa",
   "metadata": {},
   "source": [
    "We added +1 in (N+1) to avoid infinite nll later when creating a loss function. This is also called Model Smoothing.\n",
    "\n",
    "The more we add the more smooth of a distribution. The less we add the more peaked."
   ]
  },
  {
   "cell_type": "code",
   "execution_count": 153,
   "id": "0be7ca9d-4c24-4859-babd-c8100bf757ec",
   "metadata": {},
   "outputs": [
    {
     "name": "stdout",
     "output_type": "stream",
     "text": [
      "venict.\n",
      "thypshoipereryphinin.\n",
      "sharwtolben.\n",
      "erad.\n",
      "volfipsthinalgva becackhorwhathisitsha yl eralenrmimigherd.\n",
      "crimbentstengriter.\n",
      "ghoilvadarberain.\n",
      "awrwoifmehamenerawon.\n",
      "ssnghilhuoespsglckosementhohaur.\n",
      "fehulitasthitrasth.\n"
     ]
    }
   ],
   "source": [
    "g = torch.Generator().manual_seed(2147483647)\n",
    "\n",
    "for i in range(10):\n",
    "    out = []\n",
    "    ix = 0 #index 0 is start token .\n",
    "    while True:\n",
    "        p = P[ix]\n",
    "        ix = torch.multinomial(p, num_samples=1, replacement=True, generator = g).item()\n",
    "        out.append(itos[ix])\n",
    "        if ix == 0: #index 0 is end token .\n",
    "            break\n",
    "    print(''.join(out))"
   ]
  },
  {
   "cell_type": "markdown",
   "id": "c95b18a7-f549-43e3-865e-966ac8ce92af",
   "metadata": {},
   "source": [
    "#### Creating a loss function \n",
    "\n",
    "##### To help determine quality of our model"
   ]
  },
  {
   "cell_type": "code",
   "execution_count": 154,
   "id": "900d2b9b-1d6f-4ea2-af37-360095cb4bd6",
   "metadata": {},
   "outputs": [],
   "source": [
    "# GOAL: maximize likelihood of the data w.r.t. model parameters (statistical modeling)(We will be changing the numbers in table for tuning)\n",
    "# equivalent to maximizing the log likelihood (because log is monotonic)\n",
    "# equivalent to minimizing the negative log likelihood\n",
    "# equivalent to minimizing the average negative log likelihood\n",
    "\n",
    "# log(a*b*c) = log(a) + log(b) + log(c)"
   ]
  },
  {
   "cell_type": "code",
   "execution_count": 155,
   "id": "daa895d8-07f2-4c1d-a681-a4c21cbe2bc9",
   "metadata": {},
   "outputs": [
    {
     "name": "stdout",
     "output_type": "stream",
     "text": [
      ".f: 0.0969 -2.3338\n",
      "fr: 0.1135 -2.1758\n",
      "ro: 0.0385 -3.2581\n",
      "os: 0.0847 -2.4689\n",
      "st: 0.2689 -1.3135\n",
      "tw: 0.0065 -5.0434\n",
      "wy: 0.0169 -4.0775\n",
      "yr: 0.0179 -4.0254\n",
      "rm: 0.0623 -2.7763\n",
      "m.: 0.0104 -4.5695\n",
      ".e: 0.0946 -2.3585\n",
      "em: 0.0458 -3.0845\n",
      "mb: 0.1088 -2.2182\n",
      "be: 0.2900 -1.2379\n",
      "er: 0.3442 -1.0665\n",
      "rd: 0.0513 -2.9704\n",
      "dr: 0.2732 -1.2977\n",
      "ra: 0.2839 -1.2592\n",
      "ak: 0.0596 -2.8194\n",
      "ke: 0.0833 -2.4849\n",
      "e.: 0.0240 -3.7312\n",
      "log_likelihood=tensor(-56.5705)\n",
      "nll=tensor(56.5705)\n",
      "2.6938319206237793\n"
     ]
    }
   ],
   "source": [
    "log_likelihood = 0.0\n",
    "n = 0\n",
    "\n",
    "for w in words[:2]:\n",
    "#for w in [\"andrejq\"]:\n",
    "  chs = ['.'] + list(w) + ['.']\n",
    "  for ch1, ch2 in zip(chs, chs[1:]):\n",
    "    ix1 = stoi[ch1]\n",
    "    ix2 = stoi[ch2]\n",
    "    prob = P[ix1, ix2]\n",
    "    logprob = torch.log(prob)\n",
    "    log_likelihood += logprob\n",
    "    n += 1\n",
    "    print(f'{ch1}{ch2}: {prob:.4f} {logprob:.4f}')\n",
    "\n",
    "print(f'{log_likelihood=}')\n",
    "nll = -log_likelihood #negative log likelihood\n",
    "print(f'{nll=}')\n",
    "print(f'{nll/n}') #average nll"
   ]
  },
  {
   "cell_type": "markdown",
   "id": "5c66f1d7-4213-41ec-94ee-281129a8a0f2",
   "metadata": {},
   "source": [
    "## Casting this bigram model into a neural network"
   ]
  },
  {
   "cell_type": "code",
   "execution_count": 156,
   "id": "9052278a-793b-47cf-9e11-00388163b57f",
   "metadata": {},
   "outputs": [
    {
     "name": "stdout",
     "output_type": "stream",
     "text": [
      ". f\n",
      "f r\n",
      "r o\n",
      "o s\n",
      "s t\n",
      "t w\n",
      "w y\n",
      "y r\n",
      "r m\n",
      "m .\n"
     ]
    }
   ],
   "source": [
    "#Creating the training set of bigrams (x,y)\n",
    "\n",
    "xs, ys = [], []\n",
    "\n",
    "for w in words[:1]:\n",
    "  chs = ['.'] + list(w) + ['.']\n",
    "  for ch1, ch2 in zip(chs, chs[1:]):\n",
    "    ix1 = stoi[ch1]\n",
    "    ix2 = stoi[ch2]\n",
    "    print(ch1, ch2)\n",
    "    xs.append(ix1) # contain integers\n",
    "    ys.append(ix2) # contain integers\n",
    "    \n",
    "xs = torch.tensor(xs) #tensorfy it\n",
    "ys = torch.tensor(ys)"
   ]
  },
  {
   "cell_type": "code",
   "execution_count": 157,
   "id": "c50acc6c-d289-499d-ad43-f69b0ea2ee06",
   "metadata": {},
   "outputs": [
    {
     "data": {
      "text/plain": [
       "tensor([ 0,  7, 18, 15, 19, 20, 23, 25, 18, 13])"
      ]
     },
     "execution_count": 157,
     "metadata": {},
     "output_type": "execute_result"
    }
   ],
   "source": [
    "xs #When 0 is put in we want 7 to have a high probability and when 7 is put in we want 18 ... and so on"
   ]
  },
  {
   "cell_type": "code",
   "execution_count": 158,
   "id": "5a4aaa8b-93a7-4490-8a67-53919ea90989",
   "metadata": {},
   "outputs": [
    {
     "data": {
      "text/plain": [
       "tensor([ 7, 18, 15, 19, 20, 23, 25, 18, 13,  0])"
      ]
     },
     "execution_count": 158,
     "metadata": {},
     "output_type": "execute_result"
    }
   ],
   "source": [
    "ys"
   ]
  },
  {
   "cell_type": "markdown",
   "id": "c8b7d685-cb83-45a1-9e84-ec870d4845fb",
   "metadata": {},
   "source": [
    "#### Using pytorch One Hot "
   ]
  },
  {
   "cell_type": "markdown",
   "id": "f9786a10-fc35-4362-9fad-cc704cd5a228",
   "metadata": {},
   "source": [
    "Since it doesnt make sense to pass in a single integer into the input neurons, we instead turn individual ints into vectors where the corresponding index is turned to 1 to represent the int."
   ]
  },
  {
   "cell_type": "code",
   "execution_count": 159,
   "id": "602e4eaa-f49f-424c-8258-d842924ff381",
   "metadata": {},
   "outputs": [
    {
     "data": {
      "text/plain": [
       "tensor([[1., 0., 0., 0., 0., 0., 0., 0., 0., 0., 0., 0., 0., 0., 0., 0., 0., 0.,\n",
       "         0., 0., 0., 0., 0., 0., 0., 0.],\n",
       "        [0., 0., 0., 0., 0., 0., 0., 1., 0., 0., 0., 0., 0., 0., 0., 0., 0., 0.,\n",
       "         0., 0., 0., 0., 0., 0., 0., 0.],\n",
       "        [0., 0., 0., 0., 0., 0., 0., 0., 0., 0., 0., 0., 0., 0., 0., 0., 0., 0.,\n",
       "         1., 0., 0., 0., 0., 0., 0., 0.],\n",
       "        [0., 0., 0., 0., 0., 0., 0., 0., 0., 0., 0., 0., 0., 0., 0., 1., 0., 0.,\n",
       "         0., 0., 0., 0., 0., 0., 0., 0.],\n",
       "        [0., 0., 0., 0., 0., 0., 0., 0., 0., 0., 0., 0., 0., 0., 0., 0., 0., 0.,\n",
       "         0., 1., 0., 0., 0., 0., 0., 0.],\n",
       "        [0., 0., 0., 0., 0., 0., 0., 0., 0., 0., 0., 0., 0., 0., 0., 0., 0., 0.,\n",
       "         0., 0., 1., 0., 0., 0., 0., 0.],\n",
       "        [0., 0., 0., 0., 0., 0., 0., 0., 0., 0., 0., 0., 0., 0., 0., 0., 0., 0.,\n",
       "         0., 0., 0., 0., 0., 1., 0., 0.],\n",
       "        [0., 0., 0., 0., 0., 0., 0., 0., 0., 0., 0., 0., 0., 0., 0., 0., 0., 0.,\n",
       "         0., 0., 0., 0., 0., 0., 0., 1.],\n",
       "        [0., 0., 0., 0., 0., 0., 0., 0., 0., 0., 0., 0., 0., 0., 0., 0., 0., 0.,\n",
       "         1., 0., 0., 0., 0., 0., 0., 0.],\n",
       "        [0., 0., 0., 0., 0., 0., 0., 0., 0., 0., 0., 0., 0., 1., 0., 0., 0., 0.,\n",
       "         0., 0., 0., 0., 0., 0., 0., 0.]])"
      ]
     },
     "execution_count": 159,
     "metadata": {},
     "output_type": "execute_result"
    }
   ],
   "source": [
    "import torch.nn.functional as F\n",
    "xenc = F.one_hot(xs, num_classes=26).float() # x encoded\n",
    "xenc"
   ]
  },
  {
   "cell_type": "code",
   "execution_count": 160,
   "id": "bebdc3d8-3de6-491f-8083-a8b8714a93e8",
   "metadata": {},
   "outputs": [
    {
     "data": {
      "text/plain": [
       "torch.Size([10, 26])"
      ]
     },
     "execution_count": 160,
     "metadata": {},
     "output_type": "execute_result"
    }
   ],
   "source": [
    "xenc.shape"
   ]
  },
  {
   "cell_type": "code",
   "execution_count": 161,
   "id": "095971da-3a3c-4d57-bfb1-0872509d44c8",
   "metadata": {},
   "outputs": [
    {
     "data": {
      "text/plain": [
       "<matplotlib.image.AxesImage at 0x24d1a6c5210>"
      ]
     },
     "execution_count": 161,
     "metadata": {},
     "output_type": "execute_result"
    },
    {
     "data": {
      "image/png": "[encoded data removed]",
      "text/plain": [
       "<Figure size 640x480 with 1 Axes>"
      ]
     },
     "metadata": {},
     "output_type": "display_data"
    }
   ],
   "source": [
    "plt.imshow(xenc)"
   ]
  },
  {
   "cell_type": "code",
   "execution_count": 162,
   "id": "a4edef37-65bb-425e-8439-ab892676f8c6",
   "metadata": {},
   "outputs": [
    {
     "data": {
      "text/plain": [
       "torch.float32"
      ]
     },
     "execution_count": 162,
     "metadata": {},
     "output_type": "execute_result"
    }
   ],
   "source": [
    "# Note : we want to input floating points into neural networks, not integers!\n",
    "xenc.dtype"
   ]
  },
  {
   "cell_type": "code",
   "execution_count": 163,
   "id": "7da77921-b9c2-49dc-886f-b7abc799edbf",
   "metadata": {},
   "outputs": [
    {
     "data": {
      "text/plain": [
       "tensor([[ 1.5674, -0.2373, -0.0274, -1.1008,  0.2859, -0.0296, -1.5471,  0.6049,\n",
       "          0.0791,  0.9046, -0.4713,  0.7868, -0.3284, -0.4330,  1.3729,  2.9334,\n",
       "          1.5618, -1.6261,  0.6772, -0.8404,  0.9849, -0.1484, -1.4795,  0.4483,\n",
       "         -0.0707,  2.4968],\n",
       "        [-1.2464,  0.6830, -0.3946,  0.0144,  0.5722,  0.8673,  0.6315, -1.2230,\n",
       "         -0.2129,  0.5095,  0.3271,  1.9661, -0.2409, -0.7952,  0.2720, -1.1100,\n",
       "         -0.4528, -0.4958,  1.2648,  1.4625,  1.1199,  0.9954, -1.2353,  0.7382,\n",
       "          0.8142, -0.7381],\n",
       "        [-2.1021, -0.2929, -0.7068,  0.9519, -1.1583, -1.2844,  1.0193,  1.6851,\n",
       "          0.8342,  1.7113,  0.4446, -0.7186, -0.7034, -0.7133,  0.9976, -0.6198,\n",
       "          1.9522,  0.1431,  0.1876,  0.7597, -0.2639, -0.7305,  0.6195,  0.0356,\n",
       "         -0.0765, -1.2306],\n",
       "        [-0.6311,  1.3431,  0.0380, -0.7165,  1.7206, -0.5215, -0.2325,  1.0774,\n",
       "         -0.7602,  0.0090, -0.7922,  1.2307, -0.5276, -1.3207, -0.7065, -0.7786,\n",
       "          1.2910, -1.5094,  0.7459,  0.4899, -1.0034,  0.9641,  2.0990, -0.3987,\n",
       "         -0.7664, -2.1007],\n",
       "        [ 1.3419,  1.1878, -1.0672, -2.1507,  0.6708,  1.1614, -0.2415,  0.9591,\n",
       "          0.0383,  0.0399, -0.7718,  0.2925, -0.6061, -1.5136, -2.7143, -0.4116,\n",
       "         -1.2273, -0.4175,  1.5021, -0.6285, -0.4425,  0.5689,  1.2803, -0.5540,\n",
       "          1.1179, -0.6005],\n",
       "        [-0.5862, -0.2828,  0.5339, -0.9939, -1.6996,  1.8362,  0.4202, -0.6873,\n",
       "         -0.3506,  0.7560, -0.9363, -0.0841, -1.6361,  1.0224,  1.0733, -0.5745,\n",
       "          0.0497,  0.7238,  0.5975,  2.6966,  2.7930, -2.2745, -0.2391,  0.0875,\n",
       "          1.4967, -0.5702],\n",
       "        [-0.3392, -1.8058,  0.6052, -0.5625, -0.7893,  1.2767, -1.0143,  0.4161,\n",
       "         -0.7535,  1.7128, -0.8755,  0.3971,  0.8433,  0.3799, -1.1670,  0.5523,\n",
       "         -1.0279, -0.3955, -0.7141, -0.0875, -0.3336, -0.1880, -1.2647,  2.0021,\n",
       "         -0.2347, -1.3765],\n",
       "        [-0.3301,  0.3288, -1.6332,  1.0807,  0.3364,  0.1154,  0.3283,  0.0534,\n",
       "          1.4224, -0.8396, -0.5879, -0.4651,  0.0531,  2.2190, -0.8032, -0.9737,\n",
       "          0.3025, -0.5694, -0.6100, -0.5996, -0.5839, -0.0181, -1.2008, -0.4136,\n",
       "         -0.5978,  0.2460],\n",
       "        [-2.1021, -0.2929, -0.7068,  0.9519, -1.1583, -1.2844,  1.0193,  1.6851,\n",
       "          0.8342,  1.7113,  0.4446, -0.7186, -0.7034, -0.7133,  0.9976, -0.6198,\n",
       "          1.9522,  0.1431,  0.1876,  0.7597, -0.2639, -0.7305,  0.6195,  0.0356,\n",
       "         -0.0765, -1.2306],\n",
       "        [ 0.7548,  0.4054,  2.2565,  1.3655, -0.5619, -0.3042,  0.2989,  1.8784,\n",
       "          0.5596,  1.3388,  0.4161,  0.6849, -0.1479,  0.1936,  1.0532,  0.6339,\n",
       "          0.2579,  0.9641, -0.2485,  0.0248, -0.0304,  1.5622, -0.4485, -1.2345,\n",
       "          1.1220, -0.6738]], grad_fn=<MmBackward0>)"
      ]
     },
     "execution_count": 163,
     "metadata": {},
     "output_type": "execute_result"
    }
   ],
   "source": [
    "#randomly initialize 26 neurons' weights. Each neuron receives 26 inputs\n",
    "g = torch.Generator().manual_seed(2147483647)\n",
    "W = torch.randn((26,26), generator=g, requires_grad = True)\n",
    "# @ is matrix multiplication operator in pytorch\n",
    "xenc @ W\n",
    "# (10, 26) @ (26, 26)\n",
    "\n",
    "# What does this all mean?\n",
    "# Eg : (xenc @ w) [3, 13] is looking at the firing rate of the 13th neuron looking at the 3rd input.\n",
    "# This is achieved by the dot product of the 3rd input and the 13th column of this W matrix."
   ]
  },
  {
   "cell_type": "markdown",
   "id": "fbb43ca7-dd8e-4b0a-ac12-5c1826dcca43",
   "metadata": {},
   "source": [
    "#### Goal : To create probability distribution within the neural network\n",
    "#### We will use exponent e^x where negative numbers become numbers smaller than 1 and positive numbers become numbers bigger than 1\n",
    "#### We can then interpret these log counts as the counts and hence the probability"
   ]
  },
  {
   "cell_type": "code",
   "execution_count": 164,
   "id": "15cdcb1f-5630-4962-be5d-fb5bc9f216a7",
   "metadata": {},
   "outputs": [
    {
     "data": {
      "text/plain": [
       "tensor([[0.0710, 0.0117, 0.0144, 0.0049, 0.0197, 0.0144, 0.0032, 0.0271, 0.0160,\n",
       "         0.0366, 0.0092, 0.0325, 0.0107, 0.0096, 0.0585, 0.2784, 0.0706, 0.0029,\n",
       "         0.0292, 0.0064, 0.0397, 0.0128, 0.0034, 0.0232, 0.0138, 0.1799],\n",
       "        [0.0065, 0.0448, 0.0153, 0.0230, 0.0401, 0.0539, 0.0426, 0.0067, 0.0183,\n",
       "         0.0377, 0.0314, 0.1618, 0.0178, 0.0102, 0.0297, 0.0075, 0.0144, 0.0138,\n",
       "         0.0802, 0.0978, 0.0694, 0.0613, 0.0066, 0.0474, 0.0511, 0.0108],\n",
       "        [0.0028, 0.0171, 0.0113, 0.0592, 0.0072, 0.0063, 0.0634, 0.1233, 0.0527,\n",
       "         0.1266, 0.0357, 0.0111, 0.0113, 0.0112, 0.0620, 0.0123, 0.1611, 0.0264,\n",
       "         0.0276, 0.0489, 0.0176, 0.0110, 0.0425, 0.0237, 0.0212, 0.0067],\n",
       "        [0.0124, 0.0892, 0.0242, 0.0114, 0.1301, 0.0138, 0.0184, 0.0684, 0.0109,\n",
       "         0.0235, 0.0105, 0.0797, 0.0137, 0.0062, 0.0115, 0.0107, 0.0846, 0.0051,\n",
       "         0.0491, 0.0380, 0.0085, 0.0610, 0.1899, 0.0156, 0.0108, 0.0028],\n",
       "        [0.1016, 0.0871, 0.0091, 0.0031, 0.0519, 0.0848, 0.0209, 0.0693, 0.0276,\n",
       "         0.0276, 0.0123, 0.0356, 0.0145, 0.0058, 0.0018, 0.0176, 0.0078, 0.0175,\n",
       "         0.1193, 0.0142, 0.0171, 0.0469, 0.0956, 0.0153, 0.0812, 0.0146],\n",
       "        [0.0085, 0.0115, 0.0260, 0.0056, 0.0028, 0.0956, 0.0232, 0.0077, 0.0107,\n",
       "         0.0325, 0.0060, 0.0140, 0.0030, 0.0424, 0.0446, 0.0086, 0.0160, 0.0314,\n",
       "         0.0277, 0.2261, 0.2490, 0.0016, 0.0120, 0.0166, 0.0681, 0.0086],\n",
       "        [0.0200, 0.0046, 0.0514, 0.0160, 0.0127, 0.1005, 0.0102, 0.0425, 0.0132,\n",
       "         0.1555, 0.0117, 0.0417, 0.0652, 0.0410, 0.0087, 0.0487, 0.0100, 0.0189,\n",
       "         0.0137, 0.0257, 0.0201, 0.0232, 0.0079, 0.2076, 0.0222, 0.0071],\n",
       "        [0.0209, 0.0404, 0.0057, 0.0857, 0.0407, 0.0326, 0.0404, 0.0307, 0.1206,\n",
       "         0.0126, 0.0161, 0.0183, 0.0307, 0.2674, 0.0130, 0.0110, 0.0393, 0.0165,\n",
       "         0.0158, 0.0160, 0.0162, 0.0285, 0.0087, 0.0192, 0.0160, 0.0372],\n",
       "        [0.0028, 0.0171, 0.0113, 0.0592, 0.0072, 0.0063, 0.0634, 0.1233, 0.0527,\n",
       "         0.1266, 0.0357, 0.0111, 0.0113, 0.0112, 0.0620, 0.0123, 0.1611, 0.0264,\n",
       "         0.0276, 0.0489, 0.0176, 0.0110, 0.0425, 0.0237, 0.0212, 0.0067],\n",
       "        [0.0366, 0.0258, 0.1642, 0.0674, 0.0098, 0.0127, 0.0232, 0.1125, 0.0301,\n",
       "         0.0656, 0.0261, 0.0341, 0.0148, 0.0209, 0.0493, 0.0324, 0.0223, 0.0451,\n",
       "         0.0134, 0.0176, 0.0167, 0.0820, 0.0110, 0.0050, 0.0528, 0.0088]],\n",
       "       grad_fn=<DivBackward0>)"
      ]
     },
     "execution_count": 164,
     "metadata": {},
     "output_type": "execute_result"
    }
   ],
   "source": [
    "logits = xenc @ W # log-counts\n",
    "counts = logits.exp() # N equivalent, N was the probability array we had earlier\n",
    "probs = counts / counts.sum(1, keepdims=True)\n",
    "# The last 2 lines ^^^ together are called a 'softmax' , basically exponentiating logits and then normalizing them.\n",
    "# Used for getting probability distributions as we are trying to do here.\n",
    "probs\n"
   ]
  },
  {
   "cell_type": "code",
   "execution_count": 165,
   "id": "62b9ea40-7f84-4e17-a16b-c0c89f6d0f90",
   "metadata": {},
   "outputs": [
    {
     "data": {
      "text/plain": [
       "tensor(1., grad_fn=<SumBackward0>)"
      ]
     },
     "execution_count": 165,
     "metadata": {},
     "output_type": "execute_result"
    }
   ],
   "source": [
    "probs[0].sum()"
   ]
  },
  {
   "cell_type": "code",
   "execution_count": 166,
   "id": "68c23efb-3469-44fb-b4cc-a9a21000e58b",
   "metadata": {},
   "outputs": [
    {
     "data": {
      "text/plain": [
       "torch.Size([10, 26])"
      ]
     },
     "execution_count": 166,
     "metadata": {},
     "output_type": "execute_result"
    }
   ],
   "source": [
    "probs.shape\n",
    "# This is the output, which is 26 numbers, \n",
    "# We interpret this as the neural net's assignment for how likely each one of the 26 characters are to come next\n",
    "# We then tune W to change the probability, such that the loss function is minimized"
   ]
  },
  {
   "cell_type": "code",
   "execution_count": 167,
   "id": "d201782f-e8ff-4603-8195-24c31b00d3c3",
   "metadata": {},
   "outputs": [
    {
     "name": "stdout",
     "output_type": "stream",
     "text": [
      "--------\n",
      "\n",
      "bigram example 1: .f (indexes 0,7)\n",
      "input to the neural net: 0\n",
      "output probabilities from the neural net: tensor([0.0710, 0.0117, 0.0144, 0.0049, 0.0197, 0.0144, 0.0032, 0.0271, 0.0160,\n",
      "        0.0366, 0.0092, 0.0325, 0.0107, 0.0096, 0.0585, 0.2784, 0.0706, 0.0029,\n",
      "        0.0292, 0.0064, 0.0397, 0.0128, 0.0034, 0.0232, 0.0138, 0.1799],\n",
      "       grad_fn=<SelectBackward0>)\n",
      "label (actual next character): 7\n",
      "probability assigned by the net to the the correct character: 0.02713223546743393\n",
      "log likelihood: -3.6070327758789062\n",
      "negative log likelihood: 3.6070327758789062\n",
      "\n",
      "--------\n",
      "\n",
      "bigram example 2: fr (indexes 7,18)\n",
      "input to the neural net: 7\n",
      "output probabilities from the neural net: tensor([0.0065, 0.0448, 0.0153, 0.0230, 0.0401, 0.0539, 0.0426, 0.0067, 0.0183,\n",
      "        0.0377, 0.0314, 0.1618, 0.0178, 0.0102, 0.0297, 0.0075, 0.0144, 0.0138,\n",
      "        0.0802, 0.0978, 0.0694, 0.0613, 0.0066, 0.0474, 0.0511, 0.0108],\n",
      "       grad_fn=<SelectBackward0>)\n",
      "label (actual next character): 18\n",
      "probability assigned by the net to the the correct character: 0.08021984249353409\n",
      "log likelihood: -2.522984266281128\n",
      "negative log likelihood: 2.522984266281128\n",
      "\n",
      "--------\n",
      "\n",
      "bigram example 3: ro (indexes 18,15)\n",
      "input to the neural net: 18\n",
      "output probabilities from the neural net: tensor([0.0028, 0.0171, 0.0113, 0.0592, 0.0072, 0.0063, 0.0634, 0.1233, 0.0527,\n",
      "        0.1266, 0.0357, 0.0111, 0.0113, 0.0112, 0.0620, 0.0123, 0.1611, 0.0264,\n",
      "        0.0276, 0.0489, 0.0176, 0.0110, 0.0425, 0.0237, 0.0212, 0.0067],\n",
      "       grad_fn=<SelectBackward0>)\n",
      "label (actual next character): 15\n",
      "probability assigned by the net to the the correct character: 0.012303024530410767\n",
      "log likelihood: -4.397910118103027\n",
      "negative log likelihood: 4.397910118103027\n",
      "\n",
      "--------\n",
      "\n",
      "bigram example 4: os (indexes 15,19)\n",
      "input to the neural net: 15\n",
      "output probabilities from the neural net: tensor([0.0124, 0.0892, 0.0242, 0.0114, 0.1301, 0.0138, 0.0184, 0.0684, 0.0109,\n",
      "        0.0235, 0.0105, 0.0797, 0.0137, 0.0062, 0.0115, 0.0107, 0.0846, 0.0051,\n",
      "        0.0491, 0.0380, 0.0085, 0.0610, 0.1899, 0.0156, 0.0108, 0.0028],\n",
      "       grad_fn=<SelectBackward0>)\n",
      "label (actual next character): 19\n",
      "probability assigned by the net to the the correct character: 0.03798592835664749\n",
      "log likelihood: -3.2705395221710205\n",
      "negative log likelihood: 3.2705395221710205\n",
      "\n",
      "--------\n",
      "\n",
      "bigram example 5: st (indexes 19,20)\n",
      "input to the neural net: 19\n",
      "output probabilities from the neural net: tensor([0.1016, 0.0871, 0.0091, 0.0031, 0.0519, 0.0848, 0.0209, 0.0693, 0.0276,\n",
      "        0.0276, 0.0123, 0.0356, 0.0145, 0.0058, 0.0018, 0.0176, 0.0078, 0.0175,\n",
      "        0.1193, 0.0142, 0.0171, 0.0469, 0.0956, 0.0153, 0.0812, 0.0146],\n",
      "       grad_fn=<SelectBackward0>)\n",
      "label (actual next character): 20\n",
      "probability assigned by the net to the the correct character: 0.01706261746585369\n",
      "log likelihood: -4.070865154266357\n",
      "negative log likelihood: 4.070865154266357\n",
      "\n",
      "=========\n",
      "average negative log likelihood, i.e. loss = 3.573866367340088\n"
     ]
    }
   ],
   "source": [
    "nlls = torch.zeros(5)\n",
    "for i in range(5):\n",
    "  # i-th bigram:\n",
    "  x = xs[i].item() # input character index\n",
    "  y = ys[i].item() # label character index\n",
    "  print('--------')\n",
    "  print('')\n",
    "  print(f'bigram example {i+1}: {itos[x]}{itos[y]} (indexes {x},{y})')\n",
    "  print('input to the neural net:', x)\n",
    "  print('output probabilities from the neural net:', probs[i])\n",
    "  print('label (actual next character):', y)\n",
    "  p = probs[i, y]\n",
    "  print('probability assigned by the net to the the correct character:', p.item())\n",
    "  logp = torch.log(p)\n",
    "  print('log likelihood:', logp.item())\n",
    "  nll = -logp\n",
    "  print('negative log likelihood:', nll.item())\n",
    "  nlls[i] = nll\n",
    "  print('')\n",
    "print('=========')\n",
    "print('average negative log likelihood, i.e. loss =', nlls.mean().item())"
   ]
  },
  {
   "cell_type": "markdown",
   "id": "a70042be-df58-482b-a54f-399584056bd5",
   "metadata": {},
   "source": [
    "##### We need to extract these probabilities to find our loss: \n",
    "##### Finding loss is part of forward pass"
   ]
  },
  {
   "cell_type": "code",
   "execution_count": 168,
   "id": "ef4c7e71-c515-45ed-a873-eeff15e7160a",
   "metadata": {},
   "outputs": [
    {
     "data": {
      "text/plain": [
       "(tensor(0.0271, grad_fn=<SelectBackward0>),\n",
       " tensor(0.0802, grad_fn=<SelectBackward0>),\n",
       " tensor(0.0123, grad_fn=<SelectBackward0>),\n",
       " tensor(0.0380, grad_fn=<SelectBackward0>),\n",
       " tensor(0.0171, grad_fn=<SelectBackward0>),\n",
       " tensor(0.0166, grad_fn=<SelectBackward0>),\n",
       " tensor(0.0071, grad_fn=<SelectBackward0>),\n",
       " tensor(0.0158, grad_fn=<SelectBackward0>),\n",
       " tensor(0.0112, grad_fn=<SelectBackward0>),\n",
       " tensor(0.0366, grad_fn=<SelectBackward0>))"
      ]
     },
     "execution_count": 168,
     "metadata": {},
     "output_type": "execute_result"
    }
   ],
   "source": [
    "# xs : tensor([ 0,  7, 18, 15, 19, 20, 23, 25, 18, 13])\n",
    "# probs[0, 7] means after inputting the first one hot encoded char, (now a vector), \n",
    "# what is the likelyhood of getting the next CORRECT character which has an an stoi of 7.\n",
    "probs[0, 7], probs[1, 18], probs[2, 15], probs[3, 19], probs[4, 20], probs[5, 23], probs[6, 25], probs[7, 18], probs[8, 13], probs[9, 0]"
   ]
  },
  {
   "cell_type": "code",
   "execution_count": 169,
   "id": "cad00d14-bc59-404d-9166-c4dcfa685f26",
   "metadata": {},
   "outputs": [
    {
     "data": {
      "text/plain": [
       "tensor([0, 1, 2, 3, 4, 5, 6, 7, 8, 9])"
      ]
     },
     "execution_count": 169,
     "metadata": {},
     "output_type": "execute_result"
    }
   ],
   "source": [
    "# Using torch's arange function\n",
    "torch.arange(10)"
   ]
  },
  {
   "cell_type": "code",
   "execution_count": 170,
   "id": "0c07963a-af1c-44d2-9abb-06605aa4111e",
   "metadata": {},
   "outputs": [
    {
     "data": {
      "text/plain": [
       "tensor([0.0271, 0.0802, 0.0123, 0.0380, 0.0171, 0.0166, 0.0071, 0.0158, 0.0112,\n",
       "        0.0366], grad_fn=<IndexBackward0>)"
      ]
     },
     "execution_count": 170,
     "metadata": {},
     "output_type": "execute_result"
    }
   ],
   "source": [
    "probs[torch.arange(10), ys]"
   ]
  },
  {
   "cell_type": "code",
   "execution_count": 171,
   "id": "7aef0dbc-e1eb-41e5-8f0a-08123158633c",
   "metadata": {},
   "outputs": [
    {
     "data": {
      "text/plain": [
       "tensor(3.8864, grad_fn=<NegBackward0>)"
      ]
     },
     "execution_count": 171,
     "metadata": {},
     "output_type": "execute_result"
    }
   ],
   "source": [
    "#Finding the loss\n",
    "loss = -probs[torch.arange(10), ys].log().mean()\n",
    "loss"
   ]
  },
  {
   "cell_type": "code",
   "execution_count": 172,
   "id": "db2c71e2-3faf-4fc7-b670-7625ef594b93",
   "metadata": {},
   "outputs": [],
   "source": [
    "# Backward pass # Same as micrograd\n",
    "W.grad=None\n",
    "loss.backward()\n",
    "W.data += -0.1 * W.grad\n",
    "# Note : parameters is the starting randomized numbers of W. gradient is what we calculate during backward pass, \n",
    "# to determine HOW each parameter affects the final output.\n",
    "# Then add a small negative portion of the calculated grad to the parameter, to slightly nudge the loss closer to 0 (gradient descent)"
   ]
  },
  {
   "cell_type": "markdown",
   "id": "c0aea179-fe60-46cc-96de-684172310252",
   "metadata": {},
   "source": [
    "## Putting it all together"
   ]
  },
  {
   "cell_type": "code",
   "execution_count": 173,
   "id": "ab06272f-c53b-4d7d-a039-1aa3aac918ac",
   "metadata": {},
   "outputs": [
    {
     "name": "stdout",
     "output_type": "stream",
     "text": [
      "number of examples:  5495\n"
     ]
    }
   ],
   "source": [
    "# create the dataset\n",
    "xs, ys = [], []\n",
    "for w in words:\n",
    "  chs = ['.'] + list(w) + ['.']\n",
    "  for ch1, ch2 in zip(chs, chs[1:]):\n",
    "    ix1 = stoi[ch1]\n",
    "    ix2 = stoi[ch2]\n",
    "    xs.append(ix1)\n",
    "    ys.append(ix2)\n",
    "xs = torch.tensor(xs)\n",
    "ys = torch.tensor(ys)\n",
    "num = xs.nelement()\n",
    "print('number of examples: ', num)\n",
    "\n",
    "# initialize the 'network'\n",
    "g = torch.Generator().manual_seed(2147483647)\n",
    "W = torch.randn((27, 27), generator=g, requires_grad=True)"
   ]
  },
  {
   "cell_type": "code",
   "execution_count": 174,
   "id": "13c8c014-dc3f-4955-9968-2fb87e3a7aeb",
   "metadata": {},
   "outputs": [
    {
     "name": "stdout",
     "output_type": "stream",
     "text": [
      "3.893472194671631\n",
      "2.4115097522735596\n",
      "2.2158517837524414\n",
      "2.1539273262023926\n",
      "2.1267693042755127\n",
      "2.112172842025757\n",
      "2.103306531906128\n",
      "2.0975136756896973\n",
      "2.093545913696289\n",
      "2.0907275676727295\n"
     ]
    }
   ],
   "source": [
    "# gradient descent\n",
    "for k in range(100):\n",
    "  \n",
    "  # forward pass\n",
    "  xenc = F.one_hot(xs, num_classes=27).float() # input to the network: one-hot encoding\n",
    "  logits = xenc @ W # predict log-counts\n",
    "  counts = logits.exp() # counts, equivalent to N\n",
    "  probs = counts / counts.sum(1, keepdims=True) # probabilities for next character\n",
    "  loss = -probs[torch.arange(num), ys].log().mean() + 0.01*(W**2).mean()\n",
    "  if k%10==0 : print(loss.item())\n",
    "  \n",
    "  # backward pass\n",
    "  W.grad = None # set to zero the gradient\n",
    "  loss.backward()\n",
    "  \n",
    "  # update\n",
    "  W.data += -50 * W.grad"
   ]
  },
  {
   "cell_type": "code",
   "execution_count": 187,
   "id": "eb5df12d-edcc-490c-96c7-78b4e1c18433",
   "metadata": {},
   "outputs": [
    {
     "name": "stdout",
     "output_type": "stream",
     "text": [
      "venict.\n",
      "thypshoipera yphinin.\n",
      "sharwtolben.\n",
      "erad.\n",
      "volfipsthinalgul beca.\n"
     ]
    }
   ],
   "source": [
    "# finally, sample from the 'neural net' model\n",
    "g = torch.Generator().manual_seed(2147483647)\n",
    "\n",
    "for i in range(5):\n",
    "  \n",
    "  out = []\n",
    "  ix = 0\n",
    "  while True:\n",
    "    \n",
    "    # ----------\n",
    "    # BEFORE:\n",
    "    #p = P[ix]\n",
    "    # ----------\n",
    "    # NOW:\n",
    "    xenc = F.one_hot(torch.tensor([ix]), num_classes=27).float()\n",
    "    logits = xenc @ W # predict log-counts\n",
    "    counts = logits.exp() # counts, equivalent to N\n",
    "    p = counts / counts.sum(1, keepdims=True) # probabilities for next character\n",
    "    # ----------\n",
    "    \n",
    "    ix = torch.multinomial(p, num_samples=1, replacement=True, generator=g).item()\n",
    "    out.append(itos[ix])\n",
    "    if ix == 0:\n",
    "      break\n",
    "  print(''.join(out))"
   ]
  },
  {
   "cell_type": "markdown",
   "id": "6ca0a1c4-cecb-4b37-9268-977a77d75453",
   "metadata": {},
   "source": [
    "### Explanation of differences between Gradient descent method VS the Count of Tables approach.\n",
    "\n",
    "logits = xenc @ W\n",
    "\n",
    "xenc here is made out of one hot vectors, which is then multiplied by W matrix\n",
    "\n",
    "lets say we have a 1 at the 5th dimension, and because of the way matrix multiplication works, it just ends up plucking out the 5th row of W.\n",
    "\n",
    "Looking at the blue table earlier, we can see that we are doing the exact same thing except that W is the logcounts.\n",
    "The blue table was filled in by COUNTING of bigrams, whereas in gradient base framework, we initialize it randomly and then we let the loss guide us to the exact same array.\n",
    "\n",
    "So why go through the gradient descent method when its so troublesome? It's because it is more flexible and is SCALABLE. As we complexify our models, incorporating more than 1 previous characters, the table will no longer be able to hold so many different combinations, whereas the gradient descent method will be able to."
   ]
  },
  {
   "cell_type": "markdown",
   "id": "0b9b20db-3757-4b75-bc0f-87cc39cf1f09",
   "metadata": {},
   "source": [
    "#### Regularization\n",
    "Making W all zeroes is the same as adding a huge number to all counts in N, both of these are smoothing the distribution.\n",
    "\n",
    "By making W all zeroes, exponent is all 1, and when normalized, all having equal probability.\n",
    "\n",
    "By adding 0.01*(W**2).mean() to our loss, it is also trying to push W to zero.\n"
   ]
  }
 ],
 "metadata": {
  "kernelspec": {
   "display_name": "Python 3 (ipykernel)",
   "language": "python",
   "name": "python3"
  },
  "language_info": {
   "codemirror_mode": {
    "name": "ipython",
    "version": 3
   },
   "file_extension": ".py",
   "mimetype": "text/x-python",
   "name": "python",
   "nbconvert_exporter": "python",
   "pygments_lexer": "ipython3",
   "version": "3.11.7"
  }
 },
 "nbformat": 4,
 "nbformat_minor": 5
}
